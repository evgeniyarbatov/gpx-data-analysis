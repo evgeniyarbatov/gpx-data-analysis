{
 "cells": [
  {
   "cell_type": "code",
   "execution_count": 78,
   "id": "c14127b4",
   "metadata": {},
   "outputs": [],
   "source": [
    "import gpxpy\n",
    "import gpxpy.gpx\n",
    "import geopy.distance\n",
    "\n",
    "import pandas as pd\n",
    "import matplotlib.pyplot as plt"
   ]
  },
  {
   "cell_type": "code",
   "execution_count": 79,
   "id": "c2d7144f",
   "metadata": {},
   "outputs": [
    {
     "name": "stdout",
     "output_type": "stream",
     "text": [
      "3.9.15\n"
     ]
    }
   ],
   "source": [
    "from platform import python_version\n",
    "print(python_version())"
   ]
  },
  {
   "cell_type": "code",
   "execution_count": 80,
   "id": "c9bad53e",
   "metadata": {},
   "outputs": [],
   "source": [
    "with open('/Users/arbatov/Downloads/Morning_Run.gpx', 'r') as gpx_file:\n",
    "    gpx = gpxpy.parse(gpx_file)"
   ]
  },
  {
   "cell_type": "code",
   "execution_count": 4,
   "id": "280a6e2c",
   "metadata": {},
   "outputs": [
    {
     "data": {
      "text/plain": [
       "4119"
      ]
     },
     "execution_count": 4,
     "metadata": {},
     "output_type": "execute_result"
    }
   ],
   "source": [
    "gpx.get_track_points_no()"
   ]
  },
  {
   "cell_type": "code",
   "execution_count": 5,
   "id": "0835beaf",
   "metadata": {},
   "outputs": [
    {
     "data": {
      "text/plain": [
       "MinimumMaximum(minimum=11.3, maximum=22.3)"
      ]
     },
     "execution_count": 5,
     "metadata": {},
     "output_type": "execute_result"
    }
   ],
   "source": [
    "gpx.get_elevation_extremes()"
   ]
  },
  {
   "cell_type": "code",
   "execution_count": 7,
   "id": "92b745ef",
   "metadata": {},
   "outputs": [
    {
     "data": {
      "text/plain": [
       "UphillDownhill(uphill=30.799999999999997, downhill=34.89999999999998)"
      ]
     },
     "execution_count": 7,
     "metadata": {},
     "output_type": "execute_result"
    }
   ],
   "source": [
    "gpx.get_uphill_downhill()"
   ]
  },
  {
   "cell_type": "code",
   "execution_count": 9,
   "id": "c878c1fc",
   "metadata": {},
   "outputs": [
    {
     "data": {
      "text/plain": [
       "TimeBounds(start_time=datetime.datetime(2022, 12, 25, 23, 2, 31, tzinfo=SimpleTZ(\"Z\")), end_time=datetime.datetime(2022, 12, 26, 0, 11, 13, tzinfo=SimpleTZ(\"Z\")))"
      ]
     },
     "execution_count": 9,
     "metadata": {},
     "output_type": "execute_result"
    }
   ],
   "source": [
    "gpx.get_time_bounds()"
   ]
  },
  {
   "cell_type": "code",
   "execution_count": 11,
   "id": "5212968d",
   "metadata": {},
   "outputs": [],
   "source": [
    "moving_data = gpx.get_moving_data()"
   ]
  },
  {
   "cell_type": "code",
   "execution_count": 13,
   "id": "ea785308",
   "metadata": {},
   "outputs": [
    {
     "data": {
      "text/plain": [
       "4015.0"
      ]
     },
     "execution_count": 13,
     "metadata": {},
     "output_type": "execute_result"
    }
   ],
   "source": [
    "moving_data.moving_time"
   ]
  },
  {
   "cell_type": "code",
   "execution_count": 14,
   "id": "1db53593",
   "metadata": {},
   "outputs": [
    {
     "data": {
      "text/plain": [
       "13.0"
      ]
     },
     "execution_count": 14,
     "metadata": {},
     "output_type": "execute_result"
    }
   ],
   "source": [
    "moving_data.stopped_time"
   ]
  },
  {
   "cell_type": "code",
   "execution_count": 16,
   "id": "3c5651ed",
   "metadata": {},
   "outputs": [
    {
     "data": {
      "text/plain": [
       "4.184236316253756"
      ]
     },
     "execution_count": 16,
     "metadata": {},
     "output_type": "execute_result"
    }
   ],
   "source": [
    "moving_data.max_speed"
   ]
  },
  {
   "cell_type": "code",
   "execution_count": 106,
   "id": "363dfc3c",
   "metadata": {},
   "outputs": [
    {
     "data": {
      "text/html": [
       "<div>\n",
       "<style scoped>\n",
       "    .dataframe tbody tr th:only-of-type {\n",
       "        vertical-align: middle;\n",
       "    }\n",
       "\n",
       "    .dataframe tbody tr th {\n",
       "        vertical-align: top;\n",
       "    }\n",
       "\n",
       "    .dataframe thead th {\n",
       "        text-align: right;\n",
       "    }\n",
       "</style>\n",
       "<table border=\"1\" class=\"dataframe\">\n",
       "  <thead>\n",
       "    <tr style=\"text-align: right;\">\n",
       "      <th></th>\n",
       "      <th>time</th>\n",
       "      <th>time_delta</th>\n",
       "      <th>latitude</th>\n",
       "      <th>longitude</th>\n",
       "      <th>elevation</th>\n",
       "      <th>speed</th>\n",
       "      <th>distance</th>\n",
       "    </tr>\n",
       "  </thead>\n",
       "  <tbody>\n",
       "    <tr>\n",
       "      <th>0</th>\n",
       "      <td>2022-12-26 07:02:33+08:00</td>\n",
       "      <td>4120.0</td>\n",
       "      <td>1.309650</td>\n",
       "      <td>103.896767</td>\n",
       "      <td>14.3</td>\n",
       "      <td>0.028204</td>\n",
       "      <td>0.116083</td>\n",
       "    </tr>\n",
       "    <tr>\n",
       "      <th>1</th>\n",
       "      <td>2022-12-26 07:02:35+08:00</td>\n",
       "      <td>4.0</td>\n",
       "      <td>1.309642</td>\n",
       "      <td>103.896795</td>\n",
       "      <td>14.3</td>\n",
       "      <td>1.129477</td>\n",
       "      <td>0.004049</td>\n",
       "    </tr>\n",
       "    <tr>\n",
       "      <th>2</th>\n",
       "      <td>2022-12-26 07:02:37+08:00</td>\n",
       "      <td>5.0</td>\n",
       "      <td>1.309662</td>\n",
       "      <td>103.896833</td>\n",
       "      <td>15.2</td>\n",
       "      <td>1.654712</td>\n",
       "      <td>0.008199</td>\n",
       "    </tr>\n",
       "    <tr>\n",
       "      <th>3</th>\n",
       "      <td>2022-12-26 07:02:39+08:00</td>\n",
       "      <td>6.0</td>\n",
       "      <td>1.309675</td>\n",
       "      <td>103.896873</td>\n",
       "      <td>15.2</td>\n",
       "      <td>2.025663</td>\n",
       "      <td>0.012116</td>\n",
       "    </tr>\n",
       "    <tr>\n",
       "      <th>4</th>\n",
       "      <td>2022-12-26 07:02:41+08:00</td>\n",
       "      <td>7.0</td>\n",
       "      <td>1.309692</td>\n",
       "      <td>103.896917</td>\n",
       "      <td>15.2</td>\n",
       "      <td>2.371799</td>\n",
       "      <td>0.016568</td>\n",
       "    </tr>\n",
       "    <tr>\n",
       "      <th>...</th>\n",
       "      <td>...</td>\n",
       "      <td>...</td>\n",
       "      <td>...</td>\n",
       "      <td>...</td>\n",
       "      <td>...</td>\n",
       "      <td>...</td>\n",
       "      <td>...</td>\n",
       "    </tr>\n",
       "    <tr>\n",
       "      <th>95</th>\n",
       "      <td>2022-12-26 07:05:43+08:00</td>\n",
       "      <td>98.0</td>\n",
       "      <td>1.305243</td>\n",
       "      <td>103.899568</td>\n",
       "      <td>15.2</td>\n",
       "      <td>3.027594</td>\n",
       "      <td>0.294973</td>\n",
       "    </tr>\n",
       "    <tr>\n",
       "      <th>96</th>\n",
       "      <td>2022-12-26 07:05:45+08:00</td>\n",
       "      <td>99.0</td>\n",
       "      <td>1.305192</td>\n",
       "      <td>103.899603</td>\n",
       "      <td>15.2</td>\n",
       "      <td>3.032443</td>\n",
       "      <td>0.298462</td>\n",
       "    </tr>\n",
       "    <tr>\n",
       "      <th>97</th>\n",
       "      <td>2022-12-26 07:05:47+08:00</td>\n",
       "      <td>100.0</td>\n",
       "      <td>1.305137</td>\n",
       "      <td>103.899630</td>\n",
       "      <td>15.2</td>\n",
       "      <td>3.032887</td>\n",
       "      <td>0.301522</td>\n",
       "    </tr>\n",
       "    <tr>\n",
       "      <th>98</th>\n",
       "      <td>2022-12-26 07:05:49+08:00</td>\n",
       "      <td>101.0</td>\n",
       "      <td>1.305080</td>\n",
       "      <td>103.899657</td>\n",
       "      <td>15.2</td>\n",
       "      <td>3.038958</td>\n",
       "      <td>0.305152</td>\n",
       "    </tr>\n",
       "    <tr>\n",
       "      <th>99</th>\n",
       "      <td>2022-12-26 07:05:51+08:00</td>\n",
       "      <td>102.0</td>\n",
       "      <td>1.305030</td>\n",
       "      <td>103.899680</td>\n",
       "      <td>15.2</td>\n",
       "      <td>3.028829</td>\n",
       "      <td>0.307146</td>\n",
       "    </tr>\n",
       "  </tbody>\n",
       "</table>\n",
       "<p>100 rows × 7 columns</p>\n",
       "</div>"
      ],
      "text/plain": [
       "                        time  time_delta  latitude   longitude  elevation  \\\n",
       "0  2022-12-26 07:02:33+08:00      4120.0  1.309650  103.896767       14.3   \n",
       "1  2022-12-26 07:02:35+08:00         4.0  1.309642  103.896795       14.3   \n",
       "2  2022-12-26 07:02:37+08:00         5.0  1.309662  103.896833       15.2   \n",
       "3  2022-12-26 07:02:39+08:00         6.0  1.309675  103.896873       15.2   \n",
       "4  2022-12-26 07:02:41+08:00         7.0  1.309692  103.896917       15.2   \n",
       "..                       ...         ...       ...         ...        ...   \n",
       "95 2022-12-26 07:05:43+08:00        98.0  1.305243  103.899568       15.2   \n",
       "96 2022-12-26 07:05:45+08:00        99.0  1.305192  103.899603       15.2   \n",
       "97 2022-12-26 07:05:47+08:00       100.0  1.305137  103.899630       15.2   \n",
       "98 2022-12-26 07:05:49+08:00       101.0  1.305080  103.899657       15.2   \n",
       "99 2022-12-26 07:05:51+08:00       102.0  1.305030  103.899680       15.2   \n",
       "\n",
       "       speed  distance  \n",
       "0   0.028204  0.116083  \n",
       "1   1.129477  0.004049  \n",
       "2   1.654712  0.008199  \n",
       "3   2.025663  0.012116  \n",
       "4   2.371799  0.016568  \n",
       "..       ...       ...  \n",
       "95  3.027594  0.294973  \n",
       "96  3.032443  0.298462  \n",
       "97  3.032887  0.301522  \n",
       "98  3.038958  0.305152  \n",
       "99  3.028829  0.307146  \n",
       "\n",
       "[100 rows x 7 columns]"
      ]
     },
     "execution_count": 106,
     "metadata": {},
     "output_type": "execute_result"
    }
   ],
   "source": [
    "sampling = 2\n",
    "\n",
    "route_info = []\n",
    "\n",
    "for track in gpx.tracks:\n",
    "    for segment in track.segments:\n",
    "        for i, point in enumerate(segment.points[::sampling]):\n",
    "            if i == 0:\n",
    "                continue\n",
    "                \n",
    "            previous_point = segment.points[i - sampling]\n",
    "            \n",
    "            route_info.append({\n",
    "                'time': point.time,\n",
    "                'time_delta': point.time_difference(previous_point),\n",
    "                'latitude': point.latitude,\n",
    "                'longitude': point.longitude,\n",
    "                'elevation': point.elevation,\n",
    "                'speed': point.speed_between(previous_point),\n",
    "                'distance': geopy.distance.distance(\n",
    "                    (point.latitude, point.longitude), \n",
    "                    (previous_point.latitude, previous_point.longitude)\n",
    "                ).km\n",
    "            })\n",
    "            \n",
    "route_df = pd.DataFrame(route_info)\n",
    "route_df['time'] = pd.to_datetime(route_df['time']).map(lambda x: x.tz_convert('Asia/Singapore'))\n",
    "\n",
    "route_df.head(100)"
   ]
  },
  {
   "cell_type": "code",
   "execution_count": 120,
   "id": "bb498ef0",
   "metadata": {},
   "outputs": [
    {
     "data": {
      "text/plain": [
       "time          datetime64[ns, Asia/Singapore]\n",
       "time_delta                           float64\n",
       "latitude                             float64\n",
       "longitude                            float64\n",
       "elevation                            float64\n",
       "speed                                float64\n",
       "distance                             float64\n",
       "dtype: object"
      ]
     },
     "execution_count": 120,
     "metadata": {},
     "output_type": "execute_result"
    }
   ],
   "source": [
    "route_df.dtypes"
   ]
  },
  {
   "cell_type": "code",
   "execution_count": 107,
   "id": "8c2fc9cf",
   "metadata": {},
   "outputs": [
    {
     "data": {
      "text/plain": [
       "<AxesSubplot:xlabel='time'>"
      ]
     },
     "execution_count": 107,
     "metadata": {},
     "output_type": "execute_result"
    },
    {
     "data": {
      "image/png": "[encoded data removed]",
      "text/plain": [
       "<Figure size 432x288 with 1 Axes>"
      ]
     },
     "metadata": {
      "needs_background": "light"
     },
     "output_type": "display_data"
    }
   ],
   "source": [
    "route_df.plot('time', 'speed')"
   ]
  },
  {
   "cell_type": "code",
   "execution_count": 121,
   "id": "25021456",
   "metadata": {},
   "outputs": [
    {
     "data": {
      "text/plain": [
       "<AxesSubplot:ylabel='Frequency'>"
      ]
     },
     "execution_count": 121,
     "metadata": {},
     "output_type": "execute_result"
    },
    {
     "data": {
      "image/png": "[encoded data removed]",
      "text/plain": [
       "<Figure size 432x288 with 1 Axes>"
      ]
     },
     "metadata": {
      "needs_background": "light"
     },
     "output_type": "display_data"
    }
   ],
   "source": [
    "route_df.plot.hist(column=['speed'])"
   ]
  },
  {
   "cell_type": "code",
   "execution_count": 108,
   "id": "edeb5fff",
   "metadata": {},
   "outputs": [
    {
     "data": {
      "text/plain": [
       "<AxesSubplot:xlabel='time'>"
      ]
     },
     "execution_count": 108,
     "metadata": {},
     "output_type": "execute_result"
    },
    {
     "data": {
      "image/png": "[encoded data removed]",
      "text/plain": [
       "<Figure size 432x288 with 1 Axes>"
      ]
     },
     "metadata": {
      "needs_background": "light"
     },
     "output_type": "display_data"
    }
   ],
   "source": [
    "route_df.plot('time', 'distance')"
   ]
  },
  {
   "cell_type": "code",
   "execution_count": null,
   "id": "cf2328c5",
   "metadata": {},
   "outputs": [],
   "source": []
  }
 ],
 "metadata": {
  "kernelspec": {
   "display_name": "Python 3 (ipykernel)",
   "language": "python",
   "name": "python3"
  },
  "language_info": {
   "codemirror_mode": {
    "name": "ipython",
    "version": 3
   },
   "file_extension": ".py",
   "mimetype": "text/x-python",
   "name": "python",
   "nbconvert_exporter": "python",
   "pygments_lexer": "ipython3",
   "version": "3.9.15"
  }
 },
 "nbformat": 4,
 "nbformat_minor": 5
}
