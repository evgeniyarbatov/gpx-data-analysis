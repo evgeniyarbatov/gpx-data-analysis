{
 "cells": [
  {
   "cell_type": "code",
   "execution_count": 78,
   "id": "c14127b4",
   "metadata": {},
   "outputs": [],
   "source": [
    "import gpxpy\n",
    "import gpxpy.gpx\n",
    "import geopy.distance\n",
    "\n",
    "import pandas as pd\n",
    "import matplotlib.pyplot as plt"
   ]
  },
  {
   "cell_type": "code",
   "execution_count": 79,
   "id": "c2d7144f",
   "metadata": {},
   "outputs": [
    {
     "name": "stdout",
     "output_type": "stream",
     "text": [
      "3.9.15\n"
     ]
    }
   ],
   "source": [
    "from platform import python_version\n",
    "print(python_version())"
   ]
  },
  {
   "cell_type": "code",
   "execution_count": 80,
   "id": "c9bad53e",
   "metadata": {},
   "outputs": [],
   "source": [
    "with open('/Users/arbatov/Downloads/Morning_Run.gpx', 'r') as gpx_file:\n",
    "    gpx = gpxpy.parse(gpx_file)"
   ]
  },
  {
   "cell_type": "code",
   "execution_count": 4,
   "id": "280a6e2c",
   "metadata": {},
   "outputs": [
    {
     "data": {
      "text/plain": [
       "4119"
      ]
     },
     "execution_count": 4,
     "metadata": {},
     "output_type": "execute_result"
    }
   ],
   "source": [
    "gpx.get_track_points_no()"
   ]
  },
  {
   "cell_type": "code",
   "execution_count": 5,
   "id": "0835beaf",
   "metadata": {},
   "outputs": [
    {
     "data": {
      "text/plain": [
       "MinimumMaximum(minimum=11.3, maximum=22.3)"
      ]
     },
     "execution_count": 5,
     "metadata": {},
     "output_type": "execute_result"
    }
   ],
   "source": [
    "gpx.get_elevation_extremes()"
   ]
  },
  {
   "cell_type": "code",
   "execution_count": 7,
   "id": "92b745ef",
   "metadata": {},
   "outputs": [
    {
     "data": {
      "text/plain": [
       "UphillDownhill(uphill=30.799999999999997, downhill=34.89999999999998)"
      ]
     },
     "execution_count": 7,
     "metadata": {},
     "output_type": "execute_result"
    }
   ],
   "source": [
    "gpx.get_uphill_downhill()"
   ]
  },
  {
   "cell_type": "code",
   "execution_count": 9,
   "id": "c878c1fc",
   "metadata": {},
   "outputs": [
    {
     "data": {
      "text/plain": [
       "TimeBounds(start_time=datetime.datetime(2022, 12, 25, 23, 2, 31, tzinfo=SimpleTZ(\"Z\")), end_time=datetime.datetime(2022, 12, 26, 0, 11, 13, tzinfo=SimpleTZ(\"Z\")))"
      ]
     },
     "execution_count": 9,
     "metadata": {},
     "output_type": "execute_result"
    }
   ],
   "source": [
    "gpx.get_time_bounds()"
   ]
  },
  {
   "cell_type": "code",
   "execution_count": 11,
   "id": "5212968d",
   "metadata": {},
   "outputs": [],
   "source": [
    "moving_data = gpx.get_moving_data()"
   ]
  },
  {
   "cell_type": "code",
   "execution_count": 13,
   "id": "ea785308",
   "metadata": {},
   "outputs": [
    {
     "data": {
      "text/plain": [
       "4015.0"
      ]
     },
     "execution_count": 13,
     "metadata": {},
     "output_type": "execute_result"
    }
   ],
   "source": [
    "moving_data.moving_time"
   ]
  },
  {
   "cell_type": "code",
   "execution_count": 14,
   "id": "1db53593",
   "metadata": {},
   "outputs": [
    {
     "data": {
      "text/plain": [
       "13.0"
      ]
     },
     "execution_count": 14,
     "metadata": {},
     "output_type": "execute_result"
    }
   ],
   "source": [
    "moving_data.stopped_time"
   ]
  },
  {
   "cell_type": "code",
   "execution_count": 16,
   "id": "3c5651ed",
   "metadata": {},
   "outputs": [
    {
     "data": {
      "text/plain": [
       "4.184236316253756"
      ]
     },
     "execution_count": 16,
     "metadata": {},
     "output_type": "execute_result"
    }
   ],
   "source": [
    "moving_data.max_speed"
   ]
  },
  {
   "cell_type": "code",
   "execution_count": 85,
   "id": "363dfc3c",
   "metadata": {},
   "outputs": [
    {
     "data": {
      "text/html": [
       "<div>\n",
       "<style scoped>\n",
       "    .dataframe tbody tr th:only-of-type {\n",
       "        vertical-align: middle;\n",
       "    }\n",
       "\n",
       "    .dataframe tbody tr th {\n",
       "        vertical-align: top;\n",
       "    }\n",
       "\n",
       "    .dataframe thead th {\n",
       "        text-align: right;\n",
       "    }\n",
       "</style>\n",
       "<table border=\"1\" class=\"dataframe\">\n",
       "  <thead>\n",
       "    <tr style=\"text-align: right;\">\n",
       "      <th></th>\n",
       "      <th>time</th>\n",
       "      <th>time_delta</th>\n",
       "      <th>latitude</th>\n",
       "      <th>longitude</th>\n",
       "      <th>elevation</th>\n",
       "      <th>speed</th>\n",
       "      <th>distance</th>\n",
       "    </tr>\n",
       "  </thead>\n",
       "  <tbody>\n",
       "    <tr>\n",
       "      <th>0</th>\n",
       "      <td>2022-12-26 07:02:31+08:00</td>\n",
       "      <td>4122.0</td>\n",
       "      <td>1.309652</td>\n",
       "      <td>103.896760</td>\n",
       "      <td>16.3</td>\n",
       "      <td>0.028399</td>\n",
       "      <td>116.889374</td>\n",
       "    </tr>\n",
       "    <tr>\n",
       "      <th>1</th>\n",
       "      <td>2022-12-26 07:02:51+08:00</td>\n",
       "      <td>20.0</td>\n",
       "      <td>1.309792</td>\n",
       "      <td>103.897140</td>\n",
       "      <td>16.3</td>\n",
       "      <td>2.253529</td>\n",
       "      <td>45.034716</td>\n",
       "    </tr>\n",
       "    <tr>\n",
       "      <th>2</th>\n",
       "      <td>2022-12-26 07:03:11+08:00</td>\n",
       "      <td>39.0</td>\n",
       "      <td>1.309462</td>\n",
       "      <td>103.897707</td>\n",
       "      <td>15.2</td>\n",
       "      <td>2.756385</td>\n",
       "      <td>107.465831</td>\n",
       "    </tr>\n",
       "    <tr>\n",
       "      <th>3</th>\n",
       "      <td>2022-12-26 07:03:31+08:00</td>\n",
       "      <td>58.0</td>\n",
       "      <td>1.308737</td>\n",
       "      <td>103.898115</td>\n",
       "      <td>15.2</td>\n",
       "      <td>3.124273</td>\n",
       "      <td>180.825357</td>\n",
       "    </tr>\n",
       "    <tr>\n",
       "      <th>4</th>\n",
       "      <td>2022-12-26 07:03:51+08:00</td>\n",
       "      <td>77.0</td>\n",
       "      <td>1.308112</td>\n",
       "      <td>103.898427</td>\n",
       "      <td>15.2</td>\n",
       "      <td>3.259733</td>\n",
       "      <td>250.221296</td>\n",
       "    </tr>\n",
       "    <tr>\n",
       "      <th>...</th>\n",
       "      <td>...</td>\n",
       "      <td>...</td>\n",
       "      <td>...</td>\n",
       "      <td>...</td>\n",
       "      <td>...</td>\n",
       "      <td>...</td>\n",
       "      <td>...</td>\n",
       "    </tr>\n",
       "    <tr>\n",
       "      <th>95</th>\n",
       "      <td>2022-12-26 07:34:11+08:00</td>\n",
       "      <td>1806.0</td>\n",
       "      <td>1.302278</td>\n",
       "      <td>103.918553</td>\n",
       "      <td>15.2</td>\n",
       "      <td>1.273695</td>\n",
       "      <td>2299.224738</td>\n",
       "    </tr>\n",
       "    <tr>\n",
       "      <th>96</th>\n",
       "      <td>2022-12-26 07:34:31+08:00</td>\n",
       "      <td>1825.0</td>\n",
       "      <td>1.302102</td>\n",
       "      <td>103.917930</td>\n",
       "      <td>15.2</td>\n",
       "      <td>1.225231</td>\n",
       "      <td>2234.885177</td>\n",
       "    </tr>\n",
       "    <tr>\n",
       "      <th>97</th>\n",
       "      <td>2022-12-26 07:34:51+08:00</td>\n",
       "      <td>1844.0</td>\n",
       "      <td>1.301985</td>\n",
       "      <td>103.917343</td>\n",
       "      <td>15.2</td>\n",
       "      <td>1.179283</td>\n",
       "      <td>2173.366199</td>\n",
       "    </tr>\n",
       "    <tr>\n",
       "      <th>98</th>\n",
       "      <td>2022-12-26 07:35:11+08:00</td>\n",
       "      <td>1863.0</td>\n",
       "      <td>1.301813</td>\n",
       "      <td>103.916732</td>\n",
       "      <td>15.2</td>\n",
       "      <td>1.134629</td>\n",
       "      <td>2112.483566</td>\n",
       "    </tr>\n",
       "    <tr>\n",
       "      <th>99</th>\n",
       "      <td>2022-12-26 07:35:31+08:00</td>\n",
       "      <td>1882.0</td>\n",
       "      <td>1.301603</td>\n",
       "      <td>103.916182</td>\n",
       "      <td>15.2</td>\n",
       "      <td>1.094675</td>\n",
       "      <td>2058.728032</td>\n",
       "    </tr>\n",
       "  </tbody>\n",
       "</table>\n",
       "<p>100 rows × 7 columns</p>\n",
       "</div>"
      ],
      "text/plain": [
       "                        time  time_delta  latitude   longitude  elevation  \\\n",
       "0  2022-12-26 07:02:31+08:00      4122.0  1.309652  103.896760       16.3   \n",
       "1  2022-12-26 07:02:51+08:00        20.0  1.309792  103.897140       16.3   \n",
       "2  2022-12-26 07:03:11+08:00        39.0  1.309462  103.897707       15.2   \n",
       "3  2022-12-26 07:03:31+08:00        58.0  1.308737  103.898115       15.2   \n",
       "4  2022-12-26 07:03:51+08:00        77.0  1.308112  103.898427       15.2   \n",
       "..                       ...         ...       ...         ...        ...   \n",
       "95 2022-12-26 07:34:11+08:00      1806.0  1.302278  103.918553       15.2   \n",
       "96 2022-12-26 07:34:31+08:00      1825.0  1.302102  103.917930       15.2   \n",
       "97 2022-12-26 07:34:51+08:00      1844.0  1.301985  103.917343       15.2   \n",
       "98 2022-12-26 07:35:11+08:00      1863.0  1.301813  103.916732       15.2   \n",
       "99 2022-12-26 07:35:31+08:00      1882.0  1.301603  103.916182       15.2   \n",
       "\n",
       "       speed     distance  \n",
       "0   0.028399   116.889374  \n",
       "1   2.253529    45.034716  \n",
       "2   2.756385   107.465831  \n",
       "3   3.124273   180.825357  \n",
       "4   3.259733   250.221296  \n",
       "..       ...          ...  \n",
       "95  1.273695  2299.224738  \n",
       "96  1.225231  2234.885177  \n",
       "97  1.179283  2173.366199  \n",
       "98  1.134629  2112.483566  \n",
       "99  1.094675  2058.728032  \n",
       "\n",
       "[100 rows x 7 columns]"
      ]
     },
     "execution_count": 85,
     "metadata": {},
     "output_type": "execute_result"
    }
   ],
   "source": [
    "sampling = 20\n",
    "\n",
    "route_info = []\n",
    "\n",
    "for track in gpx.tracks:\n",
    "    for segment in track.segments:\n",
    "        for i, point in enumerate(segment.points[::sampling]):\n",
    "            previous_point = segment.points[i - 1]\n",
    "            route_info.append({\n",
    "                'time': point.time,\n",
    "                'time_delta': point.time_difference(previous_point),\n",
    "                'latitude': point.latitude,\n",
    "                'longitude': point.longitude,\n",
    "                'elevation': point.elevation,\n",
    "                'speed': point.speed_between(previous_point),\n",
    "                'distance': geopy.distance.geodesic(\n",
    "                    (point.latitude, point.longitude), \n",
    "                    (previous_point.latitude, previous_point.longitude)\n",
    "                ).m\n",
    "            })\n",
    "            \n",
    "route_df = pd.DataFrame(route_info)\n",
    "route_df['time'] = pd.to_datetime(route_df['time']).map(lambda x: x.tz_convert('Asia/Singapore'))\n",
    "\n",
    "route_df.head(100)"
   ]
  },
  {
   "cell_type": "code",
   "execution_count": 86,
   "id": "8c2fc9cf",
   "metadata": {},
   "outputs": [
    {
     "data": {
      "text/plain": [
       "<AxesSubplot:xlabel='time'>"
      ]
     },
     "execution_count": 86,
     "metadata": {},
     "output_type": "execute_result"
    },
    {
     "data": {
      "image/png": "[encoded data removed]",
      "text/plain": [
       "<Figure size 432x288 with 1 Axes>"
      ]
     },
     "metadata": {
      "needs_background": "light"
     },
     "output_type": "display_data"
    }
   ],
   "source": [
    "route_df.plot('time', 'speed')"
   ]
  },
  {
   "cell_type": "code",
   "execution_count": 87,
   "id": "edeb5fff",
   "metadata": {},
   "outputs": [
    {
     "data": {
      "text/plain": [
       "<AxesSubplot:xlabel='time'>"
      ]
     },
     "execution_count": 87,
     "metadata": {},
     "output_type": "execute_result"
    },
    {
     "data": {
      "image/png": "[encoded data removed]",
      "text/plain": [
       "<Figure size 432x288 with 1 Axes>"
      ]
     },
     "metadata": {
      "needs_background": "light"
     },
     "output_type": "display_data"
    }
   ],
   "source": [
    "route_df.plot('time', 'distance')"
   ]
  },
  {
   "cell_type": "code",
   "execution_count": 88,
   "id": "aac4d87e",
   "metadata": {},
   "outputs": [
    {
     "data": {
      "text/plain": [
       "<AxesSubplot:xlabel='time'>"
      ]
     },
     "execution_count": 88,
     "metadata": {},
     "output_type": "execute_result"
    },
    {
     "data": {
      "image/png": "[encoded data removed]",
      "text/plain": [
       "<Figure size 432x288 with 1 Axes>"
      ]
     },
     "metadata": {
      "needs_background": "light"
     },
     "output_type": "display_data"
    }
   ],
   "source": [
    "route_df.plot('time', 'time_delta')"
   ]
  },
  {
   "cell_type": "code",
   "execution_count": null,
   "id": "cf2328c5",
   "metadata": {},
   "outputs": [],
   "source": []
  }
 ],
 "metadata": {
  "kernelspec": {
   "display_name": "Python 3 (ipykernel)",
   "language": "python",
   "name": "python3"
  },
  "language_info": {
   "codemirror_mode": {
    "name": "ipython",
    "version": 3
   },
   "file_extension": ".py",
   "mimetype": "text/x-python",
   "name": "python",
   "nbconvert_exporter": "python",
   "pygments_lexer": "ipython3",
   "version": "3.9.15"
  }
 },
 "nbformat": 4,
 "nbformat_minor": 5
}
