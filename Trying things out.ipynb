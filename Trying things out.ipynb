{
 "cells": [
  {
   "cell_type": "code",
   "execution_count": 55,
   "id": "98f756b4",
   "metadata": {},
   "outputs": [
    {
     "data": {
      "text/html": [
       "<div>\n",
       "<style scoped>\n",
       "    .dataframe tbody tr th:only-of-type {\n",
       "        vertical-align: middle;\n",
       "    }\n",
       "\n",
       "    .dataframe tbody tr th {\n",
       "        vertical-align: top;\n",
       "    }\n",
       "\n",
       "    .dataframe thead th {\n",
       "        text-align: right;\n",
       "    }\n",
       "</style>\n",
       "<table border=\"1\" class=\"dataframe\">\n",
       "  <thead>\n",
       "    <tr style=\"text-align: right;\">\n",
       "      <th></th>\n",
       "      <th>filename</th>\n",
       "      <th>type</th>\n",
       "      <th>time</th>\n",
       "      <th>lon</th>\n",
       "      <th>lat</th>\n",
       "      <th>distance</th>\n",
       "    </tr>\n",
       "  </thead>\n",
       "  <tbody>\n",
       "    <tr>\n",
       "      <th>0</th>\n",
       "      <td>3157394637.gpx</td>\n",
       "      <td>Run</td>\n",
       "      <td>2019-12-28 21:40:57+00:00</td>\n",
       "      <td>103.874468</td>\n",
       "      <td>1.297067</td>\n",
       "      <td>1.361685</td>\n",
       "    </tr>\n",
       "    <tr>\n",
       "      <th>1</th>\n",
       "      <td>3157394637.gpx</td>\n",
       "      <td>Run</td>\n",
       "      <td>2019-12-28 21:40:58+00:00</td>\n",
       "      <td>103.874458</td>\n",
       "      <td>1.297066</td>\n",
       "      <td>1.145138</td>\n",
       "    </tr>\n",
       "    <tr>\n",
       "      <th>2</th>\n",
       "      <td>3157394637.gpx</td>\n",
       "      <td>Run</td>\n",
       "      <td>2019-12-28 21:40:59+00:00</td>\n",
       "      <td>103.874447</td>\n",
       "      <td>1.297065</td>\n",
       "      <td>1.140048</td>\n",
       "    </tr>\n",
       "    <tr>\n",
       "      <th>3</th>\n",
       "      <td>3157394637.gpx</td>\n",
       "      <td>Run</td>\n",
       "      <td>2019-12-28 21:41:00+00:00</td>\n",
       "      <td>103.874427</td>\n",
       "      <td>1.297065</td>\n",
       "      <td>2.276692</td>\n",
       "    </tr>\n",
       "    <tr>\n",
       "      <th>4</th>\n",
       "      <td>3157394637.gpx</td>\n",
       "      <td>Run</td>\n",
       "      <td>2019-12-28 21:41:01+00:00</td>\n",
       "      <td>103.874406</td>\n",
       "      <td>1.297063</td>\n",
       "      <td>2.284343</td>\n",
       "    </tr>\n",
       "  </tbody>\n",
       "</table>\n",
       "</div>"
      ],
      "text/plain": [
       "         filename type                      time         lon       lat  \\\n",
       "0  3157394637.gpx  Run 2019-12-28 21:40:57+00:00  103.874468  1.297067   \n",
       "1  3157394637.gpx  Run 2019-12-28 21:40:58+00:00  103.874458  1.297066   \n",
       "2  3157394637.gpx  Run 2019-12-28 21:40:59+00:00  103.874447  1.297065   \n",
       "3  3157394637.gpx  Run 2019-12-28 21:41:00+00:00  103.874427  1.297065   \n",
       "4  3157394637.gpx  Run 2019-12-28 21:41:01+00:00  103.874406  1.297063   \n",
       "\n",
       "   distance  \n",
       "0  1.361685  \n",
       "1  1.145138  \n",
       "2  1.140048  \n",
       "3  2.276692  \n",
       "4  2.284343  "
      ]
     },
     "execution_count": 55,
     "metadata": {},
     "output_type": "execute_result"
    }
   ],
   "source": [
    "import glob\n",
    "import os\n",
    "import gpxpy\n",
    "import random\n",
    "\n",
    "import pandas as pd\n",
    "\n",
    "import matplotlib.pyplot as plt\n",
    "import plotly.express as px\n",
    "from plotly.subplots import make_subplots\n",
    "import plotly.graph_objects as go\n",
    "\n",
    "import haversine as hs\n",
    "\n",
    "FILE_LIMIT = 10\n",
    "DATA_DIR = \"/Users/arbatov/gitRepo/gpx-data/data/strava\"\n",
    "\n",
    "G = pyproj.Geod(ellps='WGS84')\n",
    "gpx_files = glob.glob(os.path.join(DATA_DIR,\"*.gpx\"))\n",
    "\n",
    "file_count = 0\n",
    "file_contents = []\n",
    "\n",
    "for gpx_file in gpx_files:\n",
    "    with open(gpx_file) as file:\n",
    "        gpx = gpxpy.parse(file)\n",
    "\n",
    "        # Only get the run data now\n",
    "        activity_type = gpx.tracks[0].type\n",
    "        if activity_type != \"Run\": \n",
    "            continue\n",
    "        \n",
    "        gpx_points = gpx.tracks[0].segments[0].points\n",
    "        for previous_point, point in zip(gpx_points, gpx_points[1:]):            \n",
    "            distance = hs.haversine(\n",
    "                point1=(previous_point.latitude, previous_point.longitude),\n",
    "                point2=(point.latitude, point.longitude),\n",
    "                unit=hs.Unit.METERS\n",
    "            )\n",
    "\n",
    "            \n",
    "            file_contents.append([\n",
    "                os.path.basename(gpx_file),\n",
    "                gpx.tracks[0].type,\n",
    "                point.time,\n",
    "                point.longitude, \n",
    "                point.latitude,\n",
    "                distance\n",
    "            ])\n",
    "        \n",
    "\n",
    "        file_count += 1 \n",
    "        if file_count >= FILE_LIMIT:\n",
    "            break\n",
    "        \n",
    "\n",
    "df = pd.DataFrame(\n",
    "    file_contents, \n",
    "    columns=[\n",
    "        'filename',\n",
    "        'type',\n",
    "        'time',\n",
    "        'lon',\n",
    "        'lat',\n",
    "        'distance'\n",
    "    ])\n",
    "\n",
    "df.head()"
   ]
  },
  {
   "cell_type": "code",
   "execution_count": 60,
   "id": "f6826bb6",
   "metadata": {},
   "outputs": [
    {
     "data": {
      "text/plain": [
       "10"
      ]
     },
     "execution_count": 60,
     "metadata": {},
     "output_type": "execute_result"
    }
   ],
   "source": [
    "df.filename.nunique()"
   ]
  },
  {
   "cell_type": "code",
   "execution_count": 61,
   "id": "baaeaf21",
   "metadata": {},
   "outputs": [
    {
     "data": {
      "text/plain": [
       "filename\n",
       "2753647336.gpx     6872.966933\n",
       "2761730247.gpx     8347.012340\n",
       "2818479737.gpx     9497.803089\n",
       "3039897185.gpx     8239.418395\n",
       "3097022517.gpx     5741.357306\n",
       "3157394637.gpx    20291.257576\n",
       "3215277911.gpx     7917.312116\n",
       "3307575299.gpx     6069.734350\n",
       "3371480307.gpx    12012.416587\n",
       "3573272880.gpx     7453.493043\n",
       "Name: distance, dtype: float64"
      ]
     },
     "execution_count": 61,
     "metadata": {},
     "output_type": "execute_result"
    }
   ],
   "source": [
    "df.groupby('filename').distance.sum()"
   ]
  },
  {
   "cell_type": "code",
   "execution_count": null,
   "id": "20e25b3b",
   "metadata": {},
   "outputs": [],
   "source": []
  },
  {
   "cell_type": "code",
   "execution_count": null,
   "id": "3923c3a4",
   "metadata": {},
   "outputs": [],
   "source": []
  }
 ],
 "metadata": {
  "kernelspec": {
   "display_name": "Python 3 (ipykernel)",
   "language": "python",
   "name": "python3"
  },
  "language_info": {
   "codemirror_mode": {
    "name": "ipython",
    "version": 3
   },
   "file_extension": ".py",
   "mimetype": "text/x-python",
   "name": "python",
   "nbconvert_exporter": "python",
   "pygments_lexer": "ipython3",
   "version": "3.9.13"
  }
 },
 "nbformat": 4,
 "nbformat_minor": 5
}
