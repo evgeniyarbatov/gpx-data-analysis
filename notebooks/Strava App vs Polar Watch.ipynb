{
 "cells": [
  {
   "cell_type": "markdown",
   "id": "91a6da66",
   "metadata": {},
   "source": [
    "# Strava App vs Polar Watch"
   ]
  },
  {
   "cell_type": "markdown",
   "id": "1e88b12d",
   "metadata": {},
   "source": [
    "The idea is to check the differences in tracking between the app vs the watch."
   ]
  },
  {
   "cell_type": "code",
   "execution_count": 73,
   "id": "f80517d4",
   "metadata": {},
   "outputs": [],
   "source": [
    "import gpxpy\n",
    "import gpxpy.gpx\n",
    "\n",
    "import pandas as pd\n",
    "import matplotlib.pyplot as plt\n",
    "\n",
    "from pytz import timezone"
   ]
  },
  {
   "cell_type": "code",
   "execution_count": 74,
   "id": "a33cc3ab",
   "metadata": {},
   "outputs": [],
   "source": [
    "def get_local_time(dt):\n",
    "    tz = timezone('Asia/Singapore')\n",
    "    return dt.astimezone(tz).strftime('%d/%m/%y %H:%M:%S')\n",
    "\n",
    "def read_gpx_into_df(filename):\n",
    "    with open(filename, 'r') as gpx_file:\n",
    "        gpx = gpxpy.parse(gpx_file)\n",
    "        \n",
    "    points = []\n",
    "    for segment in gpx.tracks[0].segments:\n",
    "        for previous_point, point in zip(segment.points, segment.points[1:]):\n",
    "            distance = point.distance_2d(previous_point)\n",
    "\n",
    "            points.append({\n",
    "                'time': get_local_time(point.time),\n",
    "                'lat': point.latitude,\n",
    "                'lng': point.longitude,\n",
    "                'elevation': point.elevation,\n",
    "                'distance': distance,\n",
    "            })\n",
    "\n",
    "    df = pd.DataFrame.from_records(points)\n",
    "    \n",
    "    df['time']  = pd.to_datetime(df['time'], format='%d/%m/%y %H:%M:%S')\n",
    "    \n",
    "    return df"
   ]
  },
  {
   "cell_type": "code",
   "execution_count": 75,
   "id": "2a789da9",
   "metadata": {},
   "outputs": [],
   "source": [
    "def print_comparison(metric, polar_count, strava_count):\n",
    "    print(\"\\033[1m%s\\033[0;0m: %.2f (Polar) %.2f (Strava)\" % (\n",
    "        metric, \n",
    "        polar_count, \n",
    "        strava_count\n",
    "    )) \n",
    "\n",
    "def get_count_of_rows(df):\n",
    "    return df.shape[0]\n",
    "\n",
    "def get_duration(df):\n",
    "    return (df.iloc[-1]['time'] - df.iloc[0]['time']).total_seconds() / 60.0\n",
    "\n",
    "def get_distance(df):\n",
    "    return df.distance.cumsum().iloc[-1] / 1000.0"
   ]
  },
  {
   "cell_type": "code",
   "execution_count": 76,
   "id": "59ae123c",
   "metadata": {},
   "outputs": [],
   "source": [
    "polar_df = read_gpx_into_df('../data/Afternoon_Walk_Polar_Watch.gpx')\n",
    "strava_df = read_gpx_into_df('../data/Afternoon_Walk_Strava_App.gpx')"
   ]
  },
  {
   "cell_type": "code",
   "execution_count": 77,
   "id": "c06f6432",
   "metadata": {},
   "outputs": [
    {
     "name": "stdout",
     "output_type": "stream",
     "text": [
      "\u001b[1mRecord count\u001b[0;0m: 1373.00 (Polar) 1221.00 (Strava)\n"
     ]
    }
   ],
   "source": [
    "print_comparison(\n",
    "    'Record count', \n",
    "    get_count_of_rows(polar_df), \n",
    "    get_count_of_rows(strava_df)\n",
    ")"
   ]
  },
  {
   "cell_type": "code",
   "execution_count": 78,
   "id": "37fbfd92",
   "metadata": {},
   "outputs": [
    {
     "name": "stdout",
     "output_type": "stream",
     "text": [
      "\u001b[1mDuration (minutes)\u001b[0;0m: 22.95 (Polar) 22.85 (Strava)\n"
     ]
    }
   ],
   "source": [
    "print_comparison(\n",
    "    'Duration (minutes)', \n",
    "    get_duration(polar_df), \n",
    "    get_duration(strava_df)\n",
    ")"
   ]
  },
  {
   "cell_type": "code",
   "execution_count": 79,
   "id": "1a26bfae",
   "metadata": {},
   "outputs": [
    {
     "name": "stdout",
     "output_type": "stream",
     "text": [
      "\u001b[1mDistance (km)\u001b[0;0m: 2.24 (Polar) 2.20 (Strava)\n"
     ]
    }
   ],
   "source": [
    "print_comparison(\n",
    "    'Distance (km)', \n",
    "    get_distance(polar_df), \n",
    "    get_distance(strava_df)\n",
    ")"
   ]
  },
  {
   "cell_type": "code",
   "execution_count": 101,
   "id": "084a20b1",
   "metadata": {},
   "outputs": [
    {
     "data": {
      "text/plain": [
       "<matplotlib.legend.Legend at 0x120b8b2d0>"
      ]
     },
     "execution_count": 101,
     "metadata": {},
     "output_type": "execute_result"
    },
    {
     "data": {
      "image/png": "[encoded data removed]",
      "text/plain": [
       "<Figure size 360x360 with 1 Axes>"
      ]
     },
     "metadata": {
      "needs_background": "light"
     },
     "output_type": "display_data"
    }
   ],
   "source": [
    "plt.figure(figsize=(5,5))\n",
    "plt.plot(polar_df['lng'], polar_df['lat'], label='Polar')\n",
    "plt.plot(strava_df['lng'], strava_df['lat'], label='Strava')\n",
    "plt.legend()"
   ]
  },
  {
   "cell_type": "markdown",
   "id": "e0c29c40",
   "metadata": {},
   "source": [
    "## Debugging"
   ]
  },
  {
   "cell_type": "code",
   "execution_count": 63,
   "id": "3036b90d",
   "metadata": {},
   "outputs": [
    {
     "data": {
      "text/plain": [
       "count    1373.000000\n",
       "mean        1.630895\n",
       "std         0.760049\n",
       "min         0.000000\n",
       "25%         1.335485\n",
       "50%         1.573892\n",
       "75%         1.866011\n",
       "max        14.737552\n",
       "Name: distance, dtype: float64"
      ]
     },
     "execution_count": 63,
     "metadata": {},
     "output_type": "execute_result"
    }
   ],
   "source": [
    "polar_df.distance.describe()"
   ]
  },
  {
   "cell_type": "code",
   "execution_count": 64,
   "id": "49db7ba7",
   "metadata": {},
   "outputs": [
    {
     "data": {
      "text/plain": [
       "count    1221.000000\n",
       "mean        1.798510\n",
       "std         0.789218\n",
       "min         0.000000\n",
       "25%         1.408056\n",
       "50%         1.684562\n",
       "75%         1.921186\n",
       "max         8.533166\n",
       "Name: distance, dtype: float64"
      ]
     },
     "execution_count": 64,
     "metadata": {},
     "output_type": "execute_result"
    }
   ],
   "source": [
    "strava_df.distance.describe()"
   ]
  }
 ],
 "metadata": {
  "kernelspec": {
   "display_name": "Python 3 (ipykernel)",
   "language": "python",
   "name": "python3"
  },
  "language_info": {
   "codemirror_mode": {
    "name": "ipython",
    "version": 3
   },
   "file_extension": ".py",
   "mimetype": "text/x-python",
   "name": "python",
   "nbconvert_exporter": "python",
   "pygments_lexer": "ipython3",
   "version": "3.11.5"
  }
 },
 "nbformat": 4,
 "nbformat_minor": 5
}
