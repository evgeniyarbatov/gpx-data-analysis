{
 "cells": [
  {
   "cell_type": "code",
   "execution_count": 1,
   "id": "2b30ee42",
   "metadata": {},
   "outputs": [],
   "source": [
    "import gpxpy\n",
    "import gpxpy.gpx\n",
    "import pandas as pd"
   ]
  },
  {
   "cell_type": "code",
   "execution_count": 2,
   "id": "f858bd59",
   "metadata": {},
   "outputs": [],
   "source": [
    "def read_gpx_into_df(filename):\n",
    "    with open(filename, 'r') as gpx_file:\n",
    "        gpx = gpxpy.parse(gpx_file)\n",
    "        \n",
    "    points = []\n",
    "    for segment in gpx.tracks[0].segments:\n",
    "        for previous_point, point in zip(segment.points, segment.points[1:]):\n",
    "            distance = point.distance_2d(previous_point)\n",
    "            points.append({\n",
    "                'time': point.time,\n",
    "                'lat': point.latitude,\n",
    "                'lng': point.longitude,\n",
    "                'elevation': point.elevation,\n",
    "                'distance': distance,\n",
    "            })\n",
    "\n",
    "    df = pd.DataFrame.from_records(points)\n",
    "    \n",
    "    df['time']  = pd.to_datetime(df['time'], format='%d/%m/%y %H:%M:%S')\n",
    "    \n",
    "    return df"
   ]
  },
  {
   "cell_type": "code",
   "execution_count": 3,
   "id": "2b38ecaa",
   "metadata": {},
   "outputs": [],
   "source": [
    "part_1_df = read_gpx_into_df('../data/craze_ultra_2023/Evgeny_Arbatov_2023-09-30_06-50-34.GPX')\n",
    "part_2_df = read_gpx_into_df('../data/craze_ultra_2023/Evgeny_Arbatov_2023-09-30_14-12-50.GPX')"
   ]
  },
  {
   "cell_type": "code",
   "execution_count": 4,
   "id": "58184e0b",
   "metadata": {},
   "outputs": [
    {
     "data": {
      "text/plain": [
       "54.137261397701515"
      ]
     },
     "execution_count": 4,
     "metadata": {},
     "output_type": "execute_result"
    }
   ],
   "source": [
    "part_1_df.distance.cumsum().iloc[-1] / 1000.0"
   ]
  },
  {
   "cell_type": "code",
   "execution_count": 5,
   "id": "49d7ea7f",
   "metadata": {},
   "outputs": [
    {
     "data": {
      "text/plain": [
       "54.25635748214277"
      ]
     },
     "execution_count": 5,
     "metadata": {},
     "output_type": "execute_result"
    }
   ],
   "source": [
    "part_2_df.distance.cumsum().iloc[-1] / 1000.0"
   ]
  },
  {
   "cell_type": "code",
   "execution_count": null,
   "id": "5c5ced11",
   "metadata": {},
   "outputs": [],
   "source": []
  }
 ],
 "metadata": {
  "kernelspec": {
   "display_name": "Python 3 (ipykernel)",
   "language": "python",
   "name": "python3"
  },
  "language_info": {
   "codemirror_mode": {
    "name": "ipython",
    "version": 3
   },
   "file_extension": ".py",
   "mimetype": "text/x-python",
   "name": "python",
   "nbconvert_exporter": "python",
   "pygments_lexer": "ipython3",
   "version": "3.11.5"
  }
 },
 "nbformat": 4,
 "nbformat_minor": 5
}
