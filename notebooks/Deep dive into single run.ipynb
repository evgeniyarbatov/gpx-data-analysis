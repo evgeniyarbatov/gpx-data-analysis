{
 "cells": [
  {
   "cell_type": "markdown",
   "id": "aa85e3dc",
   "metadata": {},
   "source": [
    "# Run Deep Dive"
   ]
  },
  {
   "cell_type": "markdown",
   "id": "5bed7fd2",
   "metadata": {},
   "source": [
    "Take one run at random:\n",
    "\n",
    "- Can I detect the times when I start walking? When does it usually happen?\n",
    "- Build a model to predict how my pace will look like given the amount of meters I ran\n",
    "- Plot the map of the run and plot the direction in which I have ran the loop\n",
    "- Edit GPX to exclude radius around start and end point to anonymise the data\n",
    "- Plot heart rate vs pace. Is it linear?\n",
    "- What is the pace I can sustain for most of the run?"
   ]
  },
  {
   "cell_type": "code",
   "execution_count": null,
   "id": "808e0d02",
   "metadata": {},
   "outputs": [],
   "source": []
  }
 ],
 "metadata": {
  "kernelspec": {
   "display_name": "Python 3 (ipykernel)",
   "language": "python",
   "name": "python3"
  },
  "language_info": {
   "codemirror_mode": {
    "name": "ipython",
    "version": 3
   },
   "file_extension": ".py",
   "mimetype": "text/x-python",
   "name": "python",
   "nbconvert_exporter": "python",
   "pygments_lexer": "ipython3",
   "version": "3.9.6"
  }
 },
 "nbformat": 4,
 "nbformat_minor": 5
}
