{
 "cells": [
  {
   "cell_type": "markdown",
   "id": "8339f567",
   "metadata": {},
   "source": [
    "# Multiple Runs Deep Dive"
   ]
  },
  {
   "cell_type": "markdown",
   "id": "8f33edc4",
   "metadata": {},
   "source": [
    "Take all of runs I recorded:\n",
    "    \n",
    "- Find and plot similar routes together\n",
    "- Measure GPS accuracy on the same routes\n",
    "- Identify what are my preferred segments to run\n",
    "- Compare time and pace on similar routes over time"
   ]
  },
  {
   "cell_type": "code",
   "execution_count": null,
   "id": "50d37769",
   "metadata": {},
   "outputs": [],
   "source": []
  }
 ],
 "metadata": {
  "kernelspec": {
   "display_name": "Python 3 (ipykernel)",
   "language": "python",
   "name": "python3"
  },
  "language_info": {
   "codemirror_mode": {
    "name": "ipython",
    "version": 3
   },
   "file_extension": ".py",
   "mimetype": "text/x-python",
   "name": "python",
   "nbconvert_exporter": "python",
   "pygments_lexer": "ipython3",
   "version": "3.9.6"
  }
 },
 "nbformat": 4,
 "nbformat_minor": 5
}
