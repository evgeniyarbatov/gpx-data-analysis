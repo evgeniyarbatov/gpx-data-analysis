{
 "cells": [
  {
   "cell_type": "markdown",
   "id": "31efab61",
   "metadata": {},
   "source": [
    "# Data exploration"
   ]
  },
  {
   "cell_type": "markdown",
   "id": "d3bb4267",
   "metadata": {},
   "source": [
    "I have exported my data from Polar watch. Exploring what is there "
   ]
  },
  {
   "cell_type": "code",
   "execution_count": 27,
   "id": "c030fbf3",
   "metadata": {},
   "outputs": [
    {
     "name": "stderr",
     "output_type": "stream",
     "text": [
      "Fontconfig warning: ignoring UTF-8: not a valid region tag\n"
     ]
    }
   ],
   "source": [
    "import glob\n",
    "import os\n",
    "import json\n",
    "import random\n",
    "import pandas as pd\n",
    "import matplotlib.pyplot as plt"
   ]
  },
  {
   "cell_type": "markdown",
   "id": "d10a3cc2",
   "metadata": {},
   "source": [
    "Define consts"
   ]
  },
  {
   "cell_type": "code",
   "execution_count": 13,
   "id": "b367ef48",
   "metadata": {},
   "outputs": [],
   "source": [
    "DATA_DIR = \"/Users/arbatov/gitRepo/gpx-data/data\""
   ]
  },
  {
   "cell_type": "markdown",
   "id": "d47e1633",
   "metadata": {},
   "source": [
    "## Get the data"
   ]
  },
  {
   "cell_type": "markdown",
   "id": "c6cc64d5",
   "metadata": {},
   "source": [
    "Load the files"
   ]
  },
  {
   "cell_type": "code",
   "execution_count": 14,
   "id": "8ca7bd45",
   "metadata": {},
   "outputs": [],
   "source": [
    "json_files = glob.glob(os.path.join(DATA_DIR,\"*.json\"))"
   ]
  },
  {
   "cell_type": "markdown",
   "id": "867165d9",
   "metadata": {},
   "source": [
    "How many files?"
   ]
  },
  {
   "cell_type": "code",
   "execution_count": 15,
   "id": "cbbf424c",
   "metadata": {},
   "outputs": [
    {
     "name": "stdout",
     "output_type": "stream",
     "text": [
      "815\n"
     ]
    }
   ],
   "source": [
    "print(len(json_files))"
   ]
  },
  {
   "cell_type": "markdown",
   "id": "fe693dba",
   "metadata": {},
   "source": [
    "How big are all of the files?"
   ]
  },
  {
   "cell_type": "code",
   "execution_count": 16,
   "id": "983170f5",
   "metadata": {
    "scrolled": true
   },
   "outputs": [
    {
     "name": "stdout",
     "output_type": "stream",
     "text": [
      "1.7585922731086612 GB\n"
     ]
    }
   ],
   "source": [
    "nbytes = sum(d.stat().st_size for d in os.scandir(DATA_DIR) if d.is_file())\n",
    "print(float(nbytes) / 1024**3, \"GB\")"
   ]
  },
  {
   "cell_type": "markdown",
   "id": "f76150b4",
   "metadata": {},
   "source": [
    "## Overview of data"
   ]
  },
  {
   "cell_type": "markdown",
   "id": "1776e405",
   "metadata": {},
   "source": [
    "Get a sample of data"
   ]
  },
  {
   "cell_type": "code",
   "execution_count": null,
   "id": "175aa169",
   "metadata": {},
   "outputs": [],
   "source": [
    "def get_sample(sample_size = 200):  \n",
    "    file_contents = []\n",
    "    \n",
    "    sampled_json_files = random.sample(json_files, sample_size)\n",
    "    for json_file in sampled_json_files:\n",
    "        with open(json_file) as file:\n",
    "            j = json.load(file)\n",
    "            \n",
    "            file_contents.append([\n",
    "                os.path.basename(json_file),\n",
    "                j['exercises'][0]['sport'],\n",
    "                j['startTime'],\n",
    "                j['stopTime'],\n",
    "                j['distance'] if 'distance' in j else 0,\n",
    "                j['duration'],\n",
    "                j['maximumHeartRate'] if 'maximumHeartRate' in j else 0,\n",
    "                j['averageHeartRate'] if 'averageHeartRate' in j else 0\n",
    "            ])\n",
    "\n",
    "    return file_contents"
   ]
  },
  {
   "cell_type": "markdown",
   "id": "3f7a6487",
   "metadata": {},
   "source": [
    "Import data into Pandas"
   ]
  },
  {
   "cell_type": "code",
   "execution_count": null,
   "id": "83a8d57f",
   "metadata": {},
   "outputs": [],
   "source": [
    "data = get_sample(sample_size=200)\n",
    "data_df = pd.DataFrame(data, columns=[\n",
    "    'File_Name', \n",
    "    'Sport',\n",
    "    'Start_Time',\n",
    "    'Stop_Time',\n",
    "    'Distance',\n",
    "    'Duration',\n",
    "    'Maximum_Heart_Rate',\n",
    "    'Average_Heart_Rate'\n",
    "])"
   ]
  },
  {
   "cell_type": "markdown",
   "id": "d6a5ad42",
   "metadata": {},
   "source": [
    "Add duration"
   ]
  },
  {
   "cell_type": "code",
   "execution_count": null,
   "id": "899243b3",
   "metadata": {},
   "outputs": [],
   "source": [
    "data_df['Start_Time'] = pd.to_datetime(data_df['Start_Time'])\n",
    "data_df['Stop_Time'] = pd.to_datetime(data_df['Stop_Time'])\n",
    "data_df['Duration_Seconds'] = (data_df['Stop_Time'] - data_df['Start_Time']).dt.seconds"
   ]
  },
  {
   "cell_type": "markdown",
   "id": "2ac845bd",
   "metadata": {},
   "source": [
    "Check how my data looks"
   ]
  },
  {
   "cell_type": "code",
   "execution_count": 25,
   "id": "708ffd34",
   "metadata": {},
   "outputs": [
    {
     "data": {
      "text/html": [
       "<div>\n",
       "<style scoped>\n",
       "    .dataframe tbody tr th:only-of-type {\n",
       "        vertical-align: middle;\n",
       "    }\n",
       "\n",
       "    .dataframe tbody tr th {\n",
       "        vertical-align: top;\n",
       "    }\n",
       "\n",
       "    .dataframe thead th {\n",
       "        text-align: right;\n",
       "    }\n",
       "</style>\n",
       "<table border=\"1\" class=\"dataframe\">\n",
       "  <thead>\n",
       "    <tr style=\"text-align: right;\">\n",
       "      <th></th>\n",
       "      <th>File_Name</th>\n",
       "      <th>Sport</th>\n",
       "      <th>Start_Time</th>\n",
       "      <th>Stop_Time</th>\n",
       "      <th>Distance</th>\n",
       "      <th>Duration</th>\n",
       "      <th>Maximum_Heart_Rate</th>\n",
       "      <th>Average_Heart_Rate</th>\n",
       "    </tr>\n",
       "  </thead>\n",
       "  <tbody>\n",
       "    <tr>\n",
       "      <th>0</th>\n",
       "      <td>training-session-2020-07-06-4860522091-37b1955...</td>\n",
       "      <td>STRETCHING</td>\n",
       "      <td>2020-07-06 09:42:28.983</td>\n",
       "      <td>2020-07-06 09:49:37.983</td>\n",
       "      <td>0.000000</td>\n",
       "      <td>429</td>\n",
       "      <td>110</td>\n",
       "      <td>88</td>\n",
       "    </tr>\n",
       "    <tr>\n",
       "      <th>1</th>\n",
       "      <td>training-session-2020-11-17-5367588848-8ba8feb...</td>\n",
       "      <td>RUNNING</td>\n",
       "      <td>2020-11-17 05:47:43.027</td>\n",
       "      <td>2020-11-17 06:45:56.418</td>\n",
       "      <td>11316.000000</td>\n",
       "      <td>3493</td>\n",
       "      <td>157</td>\n",
       "      <td>148</td>\n",
       "    </tr>\n",
       "    <tr>\n",
       "      <th>2</th>\n",
       "      <td>training-session-2022-04-07-7206033010-66977a2...</td>\n",
       "      <td>STRETCHING</td>\n",
       "      <td>2022-04-07 22:41:53.209</td>\n",
       "      <td>2022-04-07 23:01:58.156</td>\n",
       "      <td>0.000000</td>\n",
       "      <td>1204</td>\n",
       "      <td>123</td>\n",
       "      <td>89</td>\n",
       "    </tr>\n",
       "    <tr>\n",
       "      <th>3</th>\n",
       "      <td>training-session-2021-10-10-6599866044-c53ee77...</td>\n",
       "      <td>OPEN_WATER_SWIMMING</td>\n",
       "      <td>2021-10-10 07:01:12.204</td>\n",
       "      <td>2021-10-10 07:29:53.611</td>\n",
       "      <td>0.000000</td>\n",
       "      <td>1721</td>\n",
       "      <td>155</td>\n",
       "      <td>136</td>\n",
       "    </tr>\n",
       "    <tr>\n",
       "      <th>4</th>\n",
       "      <td>training-session-2020-08-30-5066410991-aa32ef1...</td>\n",
       "      <td>WALKING</td>\n",
       "      <td>2020-08-30 18:58:51.334</td>\n",
       "      <td>2020-08-30 19:34:03.958</td>\n",
       "      <td>976.599976</td>\n",
       "      <td>2112</td>\n",
       "      <td>142</td>\n",
       "      <td>111</td>\n",
       "    </tr>\n",
       "  </tbody>\n",
       "</table>\n",
       "</div>"
      ],
      "text/plain": [
       "                                           File_Name                Sport  \\\n",
       "0  training-session-2020-07-06-4860522091-37b1955...           STRETCHING   \n",
       "1  training-session-2020-11-17-5367588848-8ba8feb...              RUNNING   \n",
       "2  training-session-2022-04-07-7206033010-66977a2...           STRETCHING   \n",
       "3  training-session-2021-10-10-6599866044-c53ee77...  OPEN_WATER_SWIMMING   \n",
       "4  training-session-2020-08-30-5066410991-aa32ef1...              WALKING   \n",
       "\n",
       "               Start_Time               Stop_Time      Distance  Duration  \\\n",
       "0 2020-07-06 09:42:28.983 2020-07-06 09:49:37.983      0.000000       429   \n",
       "1 2020-11-17 05:47:43.027 2020-11-17 06:45:56.418  11316.000000      3493   \n",
       "2 2022-04-07 22:41:53.209 2022-04-07 23:01:58.156      0.000000      1204   \n",
       "3 2021-10-10 07:01:12.204 2021-10-10 07:29:53.611      0.000000      1721   \n",
       "4 2020-08-30 18:58:51.334 2020-08-30 19:34:03.958    976.599976      2112   \n",
       "\n",
       "   Maximum_Heart_Rate  Average_Heart_Rate  \n",
       "0                 110                  88  \n",
       "1                 157                 148  \n",
       "2                 123                  89  \n",
       "3                 155                 136  \n",
       "4                 142                 111  "
      ]
     },
     "execution_count": 25,
     "metadata": {},
     "output_type": "execute_result"
    }
   ],
   "source": [
    "data_df.head()"
   ]
  },
  {
   "cell_type": "markdown",
   "id": "89cdf383",
   "metadata": {},
   "source": [
    "Get the data types"
   ]
  },
  {
   "cell_type": "code",
   "execution_count": 18,
   "id": "433e8c7e",
   "metadata": {},
   "outputs": [
    {
     "data": {
      "text/plain": [
       "File_Name              object\n",
       "Sport                  object\n",
       "Start_Time             object\n",
       "Stop_Time              object\n",
       "Distance              float64\n",
       "Duration               object\n",
       "Maximum_Heart_Rate      int64\n",
       "Average_Heart_Rate      int64\n",
       "dtype: object"
      ]
     },
     "execution_count": 18,
     "metadata": {},
     "output_type": "execute_result"
    }
   ],
   "source": [
    "data_df.dtypes"
   ]
  },
  {
   "cell_type": "markdown",
   "id": "70cb7184",
   "metadata": {},
   "source": [
    "What kind of activities are there?"
   ]
  },
  {
   "cell_type": "code",
   "execution_count": 21,
   "id": "86a6c3c6",
   "metadata": {},
   "outputs": [
    {
     "data": {
      "text/plain": [
       "RUNNING                95\n",
       "OPEN_WATER_SWIMMING    34\n",
       "STRETCHING             29\n",
       "STRENGTH_TRAINING      11\n",
       "CYCLING                10\n",
       "POOL_SWIMMING           9\n",
       "YOGA                    3\n",
       "WALKING                 3\n",
       "ROAD_RUNNING            2\n",
       "TREADMILL_RUNNING       2\n",
       "INDOOR_CYCLING          2\n",
       "Name: Sport, dtype: int64"
      ]
     },
     "execution_count": 21,
     "metadata": {},
     "output_type": "execute_result"
    }
   ],
   "source": [
    "data_df['Sport'].value_counts()"
   ]
  },
  {
   "cell_type": "markdown",
   "id": "99ce3a9d",
   "metadata": {},
   "source": [
    "## Plotting data"
   ]
  },
  {
   "cell_type": "markdown",
   "id": "5bdc2bb1",
   "metadata": {},
   "source": [
    "Breakdown data by week / month / year"
   ]
  },
  {
   "cell_type": "code",
   "execution_count": 28,
   "id": "66f1e80b",
   "metadata": {},
   "outputs": [],
   "source": [
    "data_df['Year'] = data_df['Start_Time'].apply(lambda x: x.year)\n",
    "data_df['Month'] = data_df['Start_Time'].apply(lambda x: x.month)\n",
    "data_df['Week'] = data_df['Start_Time'].apply(lambda x: x.week)"
   ]
  },
  {
   "cell_type": "markdown",
   "id": "a84000b9",
   "metadata": {},
   "source": [
    "Distance by year"
   ]
  },
  {
   "cell_type": "code",
   "execution_count": 32,
   "id": "90089d87",
   "metadata": {},
   "outputs": [
    {
     "data": {
      "text/plain": [
       "Text(0, 0.5, 'Distance (meters)')"
      ]
     },
     "execution_count": 32,
     "metadata": {},
     "output_type": "execute_result"
    },
    {
     "data": {
      "image/png": "[encoded data removed]",
      "text/plain": [
       "<Figure size 1080x360 with 1 Axes>"
      ]
     },
     "metadata": {
      "needs_background": "light"
     },
     "output_type": "display_data"
    }
   ],
   "source": [
    "data_df_grouped = data_df.groupby(['Year'])\n",
    "data_df_grouped['Distance'].sum().plot(kind='bar', figsize=(15,5))\n",
    "plt.xticks(rotation=70)\n",
    "plt.ylabel('Distance (meters)')"
   ]
  }
 ],
 "metadata": {
  "kernelspec": {
   "display_name": "Python 3 (ipykernel)",
   "language": "python",
   "name": "python3"
  },
  "language_info": {
   "codemirror_mode": {
    "name": "ipython",
    "version": 3
   },
   "file_extension": ".py",
   "mimetype": "text/x-python",
   "name": "python",
   "nbconvert_exporter": "python",
   "pygments_lexer": "ipython3",
   "version": "3.9.6"
  }
 },
 "nbformat": 4,
 "nbformat_minor": 5
}
