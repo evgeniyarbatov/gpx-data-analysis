{
 "cells": [
  {
   "cell_type": "markdown",
   "id": "31efab61",
   "metadata": {},
   "source": [
    "# Data exploration"
   ]
  },
  {
   "cell_type": "markdown",
   "id": "d3bb4267",
   "metadata": {},
   "source": [
    "I have exported my data from Polar watch. Exploring what is there "
   ]
  },
  {
   "cell_type": "code",
   "execution_count": 11,
   "id": "c030fbf3",
   "metadata": {},
   "outputs": [],
   "source": [
    "import glob\n",
    "import os\n",
    "import json\n",
    "import random\n",
    "import pandas as pd"
   ]
  },
  {
   "cell_type": "markdown",
   "id": "d10a3cc2",
   "metadata": {},
   "source": [
    "Define consts"
   ]
  },
  {
   "cell_type": "code",
   "execution_count": 2,
   "id": "b367ef48",
   "metadata": {},
   "outputs": [],
   "source": [
    "DATA_DIR = \"/Users/arbatov/gitRepo/gpx-data/data\""
   ]
  },
  {
   "cell_type": "markdown",
   "id": "d47e1633",
   "metadata": {},
   "source": [
    "## Get the data"
   ]
  },
  {
   "cell_type": "markdown",
   "id": "c6cc64d5",
   "metadata": {},
   "source": [
    "Load the files"
   ]
  },
  {
   "cell_type": "code",
   "execution_count": 3,
   "id": "8ca7bd45",
   "metadata": {},
   "outputs": [],
   "source": [
    "json_files = glob.glob(os.path.join(DATA_DIR,\"*.json\"))"
   ]
  },
  {
   "cell_type": "markdown",
   "id": "867165d9",
   "metadata": {},
   "source": [
    "How many files?"
   ]
  },
  {
   "cell_type": "code",
   "execution_count": 4,
   "id": "cbbf424c",
   "metadata": {},
   "outputs": [
    {
     "name": "stdout",
     "output_type": "stream",
     "text": [
      "815\n"
     ]
    }
   ],
   "source": [
    "print(len(json_files))"
   ]
  },
  {
   "cell_type": "markdown",
   "id": "fe693dba",
   "metadata": {},
   "source": [
    "How big are all of the files?"
   ]
  },
  {
   "cell_type": "code",
   "execution_count": 13,
   "id": "983170f5",
   "metadata": {
    "scrolled": true
   },
   "outputs": [
    {
     "name": "stdout",
     "output_type": "stream",
     "text": [
      "1.7585922731086612 GB\n"
     ]
    }
   ],
   "source": [
    "nbytes = sum(d.stat().st_size for d in os.scandir(DATA_DIR) if d.is_file())\n",
    "print(float(nbytes) / 1024**3, \"GB\")"
   ]
  },
  {
   "cell_type": "markdown",
   "id": "f76150b4",
   "metadata": {},
   "source": [
    "## Overview of data"
   ]
  },
  {
   "cell_type": "markdown",
   "id": "1776e405",
   "metadata": {},
   "source": [
    "I need to sample data"
   ]
  },
  {
   "cell_type": "code",
   "execution_count": 19,
   "id": "708ffd34",
   "metadata": {},
   "outputs": [
    {
     "ename": "KeyError",
     "evalue": "'distance'",
     "output_type": "error",
     "traceback": [
      "\u001b[0;31m---------------------------------------------------------------------------\u001b[0m",
      "\u001b[0;31mKeyError\u001b[0m                                  Traceback (most recent call last)",
      "Input \u001b[0;32mIn [19]\u001b[0m, in \u001b[0;36m<cell line: 23>\u001b[0;34m()\u001b[0m\n\u001b[1;32m      9\u001b[0m             file_contents\u001b[38;5;241m.\u001b[39mappend([\n\u001b[1;32m     10\u001b[0m                 os\u001b[38;5;241m.\u001b[39mpath\u001b[38;5;241m.\u001b[39mbasename(json_file),\n\u001b[1;32m     11\u001b[0m                 j[\u001b[38;5;124m'\u001b[39m\u001b[38;5;124mexercises\u001b[39m\u001b[38;5;124m'\u001b[39m][\u001b[38;5;241m0\u001b[39m][\u001b[38;5;124m'\u001b[39m\u001b[38;5;124msport\u001b[39m\u001b[38;5;124m'\u001b[39m],\n\u001b[0;32m   (...)\u001b[0m\n\u001b[1;32m     17\u001b[0m                 j[\u001b[38;5;124m'\u001b[39m\u001b[38;5;124maverageHeartRate\u001b[39m\u001b[38;5;124m'\u001b[39m]\n\u001b[1;32m     18\u001b[0m             ])\n\u001b[1;32m     20\u001b[0m     \u001b[38;5;28;01mreturn\u001b[39;00m file_contents\n\u001b[0;32m---> 23\u001b[0m data \u001b[38;5;241m=\u001b[39m \u001b[43mget_sample\u001b[49m\u001b[43m(\u001b[49m\u001b[43msample_size\u001b[49m\u001b[38;5;241;43m=\u001b[39;49m\u001b[38;5;241;43m200\u001b[39;49m\u001b[43m)\u001b[49m\n\u001b[1;32m     24\u001b[0m data_df \u001b[38;5;241m=\u001b[39m pd\u001b[38;5;241m.\u001b[39mDataFrame(data, columns\u001b[38;5;241m=\u001b[39m[\n\u001b[1;32m     25\u001b[0m     \u001b[38;5;124m'\u001b[39m\u001b[38;5;124mFile_Name\u001b[39m\u001b[38;5;124m'\u001b[39m, \n\u001b[1;32m     26\u001b[0m     \u001b[38;5;124m'\u001b[39m\u001b[38;5;124mSport\u001b[39m\u001b[38;5;124m'\u001b[39m,\n\u001b[0;32m   (...)\u001b[0m\n\u001b[1;32m     32\u001b[0m     \u001b[38;5;124m'\u001b[39m\u001b[38;5;124mAverage_Heart_Rate\u001b[39m\u001b[38;5;124m'\u001b[39m\n\u001b[1;32m     33\u001b[0m ])\n\u001b[1;32m     34\u001b[0m data_df\u001b[38;5;241m.\u001b[39mhead()\n",
      "Input \u001b[0;32mIn [19]\u001b[0m, in \u001b[0;36mget_sample\u001b[0;34m(sample_size)\u001b[0m\n\u001b[1;32m      6\u001b[0m     \u001b[38;5;28;01mwith\u001b[39;00m \u001b[38;5;28mopen\u001b[39m(json_file) \u001b[38;5;28;01mas\u001b[39;00m file:\n\u001b[1;32m      7\u001b[0m         j \u001b[38;5;241m=\u001b[39m json\u001b[38;5;241m.\u001b[39mload(file)\n\u001b[1;32m      9\u001b[0m         file_contents\u001b[38;5;241m.\u001b[39mappend([\n\u001b[1;32m     10\u001b[0m             os\u001b[38;5;241m.\u001b[39mpath\u001b[38;5;241m.\u001b[39mbasename(json_file),\n\u001b[1;32m     11\u001b[0m             j[\u001b[38;5;124m'\u001b[39m\u001b[38;5;124mexercises\u001b[39m\u001b[38;5;124m'\u001b[39m][\u001b[38;5;241m0\u001b[39m][\u001b[38;5;124m'\u001b[39m\u001b[38;5;124msport\u001b[39m\u001b[38;5;124m'\u001b[39m],\n\u001b[1;32m     12\u001b[0m             j[\u001b[38;5;124m'\u001b[39m\u001b[38;5;124mstartTime\u001b[39m\u001b[38;5;124m'\u001b[39m],\n\u001b[1;32m     13\u001b[0m             j[\u001b[38;5;124m'\u001b[39m\u001b[38;5;124mstopTime\u001b[39m\u001b[38;5;124m'\u001b[39m],\n\u001b[0;32m---> 14\u001b[0m             \u001b[43mj\u001b[49m\u001b[43m[\u001b[49m\u001b[38;5;124;43m'\u001b[39;49m\u001b[38;5;124;43mdistance\u001b[39;49m\u001b[38;5;124;43m'\u001b[39;49m\u001b[43m]\u001b[49m,\n\u001b[1;32m     15\u001b[0m             j[\u001b[38;5;124m'\u001b[39m\u001b[38;5;124mduration\u001b[39m\u001b[38;5;124m'\u001b[39m],\n\u001b[1;32m     16\u001b[0m             j[\u001b[38;5;124m'\u001b[39m\u001b[38;5;124mmaximumHeartRate\u001b[39m\u001b[38;5;124m'\u001b[39m],\n\u001b[1;32m     17\u001b[0m             j[\u001b[38;5;124m'\u001b[39m\u001b[38;5;124maverageHeartRate\u001b[39m\u001b[38;5;124m'\u001b[39m]\n\u001b[1;32m     18\u001b[0m         ])\n\u001b[1;32m     20\u001b[0m \u001b[38;5;28;01mreturn\u001b[39;00m file_contents\n",
      "\u001b[0;31mKeyError\u001b[0m: 'distance'"
     ]
    }
   ],
   "source": [
    "def get_sample(sample_size = 200):  \n",
    "    file_contents = []\n",
    "    \n",
    "    sampled_json_files = random.sample(json_files, sample_size)\n",
    "    for json_file in sampled_json_files:\n",
    "        with open(json_file) as file:\n",
    "            j = json.load(file)\n",
    "            \n",
    "            file_contents.append([\n",
    "                os.path.basename(json_file),\n",
    "                j['exercises'][0]['sport'],\n",
    "                j['startTime'],\n",
    "                j['stopTime'],\n",
    "                if 'distance' in j: j['distance'],\n",
    "                j['duration'],\n",
    "                j['maximumHeartRate'],\n",
    "                j['averageHeartRate']\n",
    "            ])\n",
    "\n",
    "    return file_contents\n",
    "\n",
    "\n",
    "data = get_sample(sample_size=200)\n",
    "data_df = pd.DataFrame(data, columns=[\n",
    "    'File_Name', \n",
    "    'Sport',\n",
    "    'Start_Time',\n",
    "    'Stop_Time',\n",
    "    'Distance',\n",
    "    'Duration',\n",
    "    'Maximum_Heart_Rate',\n",
    "    'Average_Heart_Rate'\n",
    "])\n",
    "data_df.head()"
   ]
  },
  {
   "cell_type": "markdown",
   "id": "89cdf383",
   "metadata": {},
   "source": [
    "Get the data types"
   ]
  },
  {
   "cell_type": "code",
   "execution_count": 17,
   "id": "433e8c7e",
   "metadata": {},
   "outputs": [
    {
     "data": {
      "text/plain": [
       "File_Name    object\n",
       "Sport        object\n",
       "dtype: object"
      ]
     },
     "execution_count": 17,
     "metadata": {},
     "output_type": "execute_result"
    }
   ],
   "source": [
    "data_df.dtypes"
   ]
  },
  {
   "cell_type": "markdown",
   "id": "70cb7184",
   "metadata": {},
   "source": [
    "What kind of activities are there?"
   ]
  },
  {
   "cell_type": "code",
   "execution_count": 8,
   "id": "86a6c3c6",
   "metadata": {},
   "outputs": [
    {
     "name": "stdout",
     "output_type": "stream",
     "text": [
      "RUNNING 102\n",
      "STRETCHING 28\n",
      "OPEN_WATER_SWIMMING 25\n",
      "STRENGTH_TRAINING 15\n",
      "CYCLING 13\n",
      "POOL_SWIMMING 10\n",
      "INDOOR_CYCLING 3\n",
      "TREADMILL_RUNNING 2\n",
      "WALKING 1\n",
      "YOGA 1\n"
     ]
    }
   ],
   "source": [
    "activities = {}\n",
    "\n",
    "file_contents = get_sample(sample_size=200)\n",
    "for content in file_contents:\n",
    "    sport = content['exercises'][0]['sport']\n",
    "    if sport in activities:\n",
    "        activities[sport] += 1\n",
    "    else:\n",
    "        activities[sport] = 1\n",
    "\n",
    "sorted_activities = dict(sorted(\n",
    "    activities.items(), \n",
    "    key=lambda activity: activity[1],\n",
    "    reverse=True\n",
    "))            \n",
    "for sport, count in sorted_activities.items():\n",
    "    print(sport, count)"
   ]
  },
  {
   "cell_type": "markdown",
   "id": "a7ddfa8d",
   "metadata": {},
   "source": [
    "Get activities of specific sport"
   ]
  },
  {
   "cell_type": "code",
   "execution_count": 9,
   "id": "b5c8d85d",
   "metadata": {},
   "outputs": [
    {
     "name": "stdout",
     "output_type": "stream",
     "text": [
      "97\n"
     ]
    }
   ],
   "source": [
    "running_acitivities = get_sample(\"RUNNING\", 200)\n",
    "print(len(running_acitivities))"
   ]
  },
  {
   "cell_type": "code",
   "execution_count": null,
   "id": "a7bebef3",
   "metadata": {},
   "outputs": [],
   "source": []
  }
 ],
 "metadata": {
  "kernelspec": {
   "display_name": "Python 3 (ipykernel)",
   "language": "python",
   "name": "python3"
  },
  "language_info": {
   "codemirror_mode": {
    "name": "ipython",
    "version": 3
   },
   "file_extension": ".py",
   "mimetype": "text/x-python",
   "name": "python",
   "nbconvert_exporter": "python",
   "pygments_lexer": "ipython3",
   "version": "3.9.6"
  }
 },
 "nbformat": 4,
 "nbformat_minor": 5
}
