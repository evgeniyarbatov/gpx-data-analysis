{
 "cells": [
  {
   "cell_type": "markdown",
   "id": "31efab61",
   "metadata": {},
   "source": [
    "# Data exploration"
   ]
  },
  {
   "cell_type": "markdown",
   "id": "d3bb4267",
   "metadata": {},
   "source": [
    "I have exported my data from Polar watch. Exploring what is there "
   ]
  },
  {
   "cell_type": "code",
   "execution_count": 2,
   "id": "c030fbf3",
   "metadata": {},
   "outputs": [],
   "source": [
    "import glob\n",
    "import os\n",
    "import json\n",
    "import random\n",
    "import pandas as pd\n",
    "import matplotlib.pyplot as plt"
   ]
  },
  {
   "cell_type": "markdown",
   "id": "d10a3cc2",
   "metadata": {},
   "source": [
    "Define consts"
   ]
  },
  {
   "cell_type": "code",
   "execution_count": 3,
   "id": "b367ef48",
   "metadata": {},
   "outputs": [],
   "source": [
    "DATA_DIR = \"/Users/arbatov/gitRepo/gpx-data/data\""
   ]
  },
  {
   "cell_type": "markdown",
   "id": "d47e1633",
   "metadata": {},
   "source": [
    "## Get the data"
   ]
  },
  {
   "cell_type": "markdown",
   "id": "c6cc64d5",
   "metadata": {},
   "source": [
    "Load the files"
   ]
  },
  {
   "cell_type": "code",
   "execution_count": 4,
   "id": "8ca7bd45",
   "metadata": {},
   "outputs": [],
   "source": [
    "json_files = glob.glob(os.path.join(DATA_DIR,\"*.json\"))"
   ]
  },
  {
   "cell_type": "markdown",
   "id": "867165d9",
   "metadata": {},
   "source": [
    "How many files?"
   ]
  },
  {
   "cell_type": "code",
   "execution_count": 5,
   "id": "cbbf424c",
   "metadata": {},
   "outputs": [
    {
     "name": "stdout",
     "output_type": "stream",
     "text": [
      "815\n"
     ]
    }
   ],
   "source": [
    "print(len(json_files))"
   ]
  },
  {
   "cell_type": "markdown",
   "id": "fe693dba",
   "metadata": {},
   "source": [
    "How big are all of the files?"
   ]
  },
  {
   "cell_type": "code",
   "execution_count": 6,
   "id": "983170f5",
   "metadata": {
    "scrolled": true
   },
   "outputs": [
    {
     "name": "stdout",
     "output_type": "stream",
     "text": [
      "1.7585922731086612 GB\n"
     ]
    }
   ],
   "source": [
    "nbytes = sum(d.stat().st_size for d in os.scandir(DATA_DIR) if d.is_file())\n",
    "print(float(nbytes) / 1024**3, \"GB\")"
   ]
  },
  {
   "cell_type": "markdown",
   "id": "f76150b4",
   "metadata": {},
   "source": [
    "## Overview of data"
   ]
  },
  {
   "cell_type": "markdown",
   "id": "1776e405",
   "metadata": {},
   "source": [
    "Get a sample of data"
   ]
  },
  {
   "cell_type": "code",
   "execution_count": 36,
   "id": "d211ba09",
   "metadata": {},
   "outputs": [],
   "source": [
    "def get_sample():  \n",
    "    file_contents = []\n",
    "    \n",
    "    for json_file in json_files:\n",
    "        with open(json_file) as file:\n",
    "            j = json.load(file)\n",
    "            \n",
    "            file_contents.append([\n",
    "                os.path.basename(json_file),\n",
    "                j['exercises'][0]['sport'],\n",
    "                j['startTime'],\n",
    "                j['stopTime'],\n",
    "                j['distance'] if 'distance' in j else 0,\n",
    "                j['duration'],\n",
    "                j['maximumHeartRate'] if 'maximumHeartRate' in j else 0,\n",
    "                j['averageHeartRate'] if 'averageHeartRate' in j else 0\n",
    "            ])\n",
    "\n",
    "    return file_contents"
   ]
  },
  {
   "cell_type": "markdown",
   "id": "a899109d",
   "metadata": {},
   "source": [
    "Import data into Pandas"
   ]
  },
  {
   "cell_type": "code",
   "execution_count": 37,
   "id": "92a8508c",
   "metadata": {},
   "outputs": [],
   "source": [
    "data = get_sample()\n",
    "data_df = pd.DataFrame(data, columns=[\n",
    "    'File_Name', \n",
    "    'Sport',\n",
    "    'Start_Time',\n",
    "    'Stop_Time',\n",
    "    'Distance',\n",
    "    'Duration',\n",
    "    'Maximum_Heart_Rate',\n",
    "    'Average_Heart_Rate'\n",
    "])"
   ]
  },
  {
   "cell_type": "markdown",
   "id": "c6881f6d",
   "metadata": {},
   "source": [
    "Add duration"
   ]
  },
  {
   "cell_type": "code",
   "execution_count": 38,
   "id": "bb73331a",
   "metadata": {},
   "outputs": [],
   "source": [
    "data_df['Start_Time'] = pd.to_datetime(data_df['Start_Time'])\n",
    "data_df['Stop_Time'] = pd.to_datetime(data_df['Stop_Time'])\n",
    "data_df['Duration_Seconds'] = (data_df['Stop_Time'] - data_df['Start_Time']).dt.seconds"
   ]
  },
  {
   "cell_type": "markdown",
   "id": "6b92fc2c",
   "metadata": {},
   "source": [
    "Check how my data looks"
   ]
  },
  {
   "cell_type": "code",
   "execution_count": 46,
   "id": "708ffd34",
   "metadata": {},
   "outputs": [
    {
     "data": {
      "text/html": [
       "<div>\n",
       "<style scoped>\n",
       "    .dataframe tbody tr th:only-of-type {\n",
       "        vertical-align: middle;\n",
       "    }\n",
       "\n",
       "    .dataframe tbody tr th {\n",
       "        vertical-align: top;\n",
       "    }\n",
       "\n",
       "    .dataframe thead th {\n",
       "        text-align: right;\n",
       "    }\n",
       "</style>\n",
       "<table border=\"1\" class=\"dataframe\">\n",
       "  <thead>\n",
       "    <tr style=\"text-align: right;\">\n",
       "      <th></th>\n",
       "      <th>File_Name</th>\n",
       "      <th>Sport</th>\n",
       "      <th>Start_Time</th>\n",
       "      <th>Stop_Time</th>\n",
       "      <th>Distance</th>\n",
       "      <th>Duration</th>\n",
       "      <th>Maximum_Heart_Rate</th>\n",
       "      <th>Average_Heart_Rate</th>\n",
       "      <th>Duration_Seconds</th>\n",
       "      <th>Year</th>\n",
       "      <th>Month</th>\n",
       "      <th>Week</th>\n",
       "    </tr>\n",
       "  </thead>\n",
       "  <tbody>\n",
       "    <tr>\n",
       "      <th>0</th>\n",
       "      <td>training-session-2020-12-25-5476127809-b9f3191...</td>\n",
       "      <td>RUNNING</td>\n",
       "      <td>2020-12-25 06:23:41.125</td>\n",
       "      <td>2020-12-25 07:49:44.752</td>\n",
       "      <td>14837.000000</td>\n",
       "      <td>PT4994.753S</td>\n",
       "      <td>167</td>\n",
       "      <td>154</td>\n",
       "      <td>5163</td>\n",
       "      <td>2020</td>\n",
       "      <td>12</td>\n",
       "      <td>52</td>\n",
       "    </tr>\n",
       "    <tr>\n",
       "      <th>1</th>\n",
       "      <td>training-session-2021-12-30-6850109034-2812b0a...</td>\n",
       "      <td>OPEN_WATER_SWIMMING</td>\n",
       "      <td>2021-12-30 07:03:43.324</td>\n",
       "      <td>2021-12-30 07:37:56.742</td>\n",
       "      <td>0.000000</td>\n",
       "      <td>PT2046.502S</td>\n",
       "      <td>175</td>\n",
       "      <td>140</td>\n",
       "      <td>2053</td>\n",
       "      <td>2021</td>\n",
       "      <td>12</td>\n",
       "      <td>52</td>\n",
       "    </tr>\n",
       "    <tr>\n",
       "      <th>2</th>\n",
       "      <td>training-session-2020-07-31-4953476066-34bba44...</td>\n",
       "      <td>CYCLING</td>\n",
       "      <td>2020-07-31 05:35:52.069</td>\n",
       "      <td>2020-07-31 07:00:53.151</td>\n",
       "      <td>30768.300781</td>\n",
       "      <td>PT5096.502S</td>\n",
       "      <td>142</td>\n",
       "      <td>113</td>\n",
       "      <td>5101</td>\n",
       "      <td>2020</td>\n",
       "      <td>7</td>\n",
       "      <td>31</td>\n",
       "    </tr>\n",
       "    <tr>\n",
       "      <th>3</th>\n",
       "      <td>training-session-2021-10-10-6599866044-c53ee77...</td>\n",
       "      <td>OPEN_WATER_SWIMMING</td>\n",
       "      <td>2021-10-10 07:01:12.204</td>\n",
       "      <td>2021-10-10 07:29:53.611</td>\n",
       "      <td>0.000000</td>\n",
       "      <td>PT1716.877S</td>\n",
       "      <td>155</td>\n",
       "      <td>136</td>\n",
       "      <td>1721</td>\n",
       "      <td>2021</td>\n",
       "      <td>10</td>\n",
       "      <td>40</td>\n",
       "    </tr>\n",
       "    <tr>\n",
       "      <th>4</th>\n",
       "      <td>training-session-2022-04-30-7281723235-4027a36...</td>\n",
       "      <td>STRETCHING</td>\n",
       "      <td>2022-04-30 22:56:04.714</td>\n",
       "      <td>2022-04-30 23:24:21.516</td>\n",
       "      <td>0.000000</td>\n",
       "      <td>PT1692.002S</td>\n",
       "      <td>119</td>\n",
       "      <td>81</td>\n",
       "      <td>1696</td>\n",
       "      <td>2022</td>\n",
       "      <td>4</td>\n",
       "      <td>17</td>\n",
       "    </tr>\n",
       "  </tbody>\n",
       "</table>\n",
       "</div>"
      ],
      "text/plain": [
       "                                           File_Name                Sport  \\\n",
       "0  training-session-2020-12-25-5476127809-b9f3191...              RUNNING   \n",
       "1  training-session-2021-12-30-6850109034-2812b0a...  OPEN_WATER_SWIMMING   \n",
       "2  training-session-2020-07-31-4953476066-34bba44...              CYCLING   \n",
       "3  training-session-2021-10-10-6599866044-c53ee77...  OPEN_WATER_SWIMMING   \n",
       "4  training-session-2022-04-30-7281723235-4027a36...           STRETCHING   \n",
       "\n",
       "               Start_Time               Stop_Time      Distance     Duration  \\\n",
       "0 2020-12-25 06:23:41.125 2020-12-25 07:49:44.752  14837.000000  PT4994.753S   \n",
       "1 2021-12-30 07:03:43.324 2021-12-30 07:37:56.742      0.000000  PT2046.502S   \n",
       "2 2020-07-31 05:35:52.069 2020-07-31 07:00:53.151  30768.300781  PT5096.502S   \n",
       "3 2021-10-10 07:01:12.204 2021-10-10 07:29:53.611      0.000000  PT1716.877S   \n",
       "4 2022-04-30 22:56:04.714 2022-04-30 23:24:21.516      0.000000  PT1692.002S   \n",
       "\n",
       "   Maximum_Heart_Rate  Average_Heart_Rate  Duration_Seconds  Year  Month  Week  \n",
       "0                 167                 154              5163  2020     12    52  \n",
       "1                 175                 140              2053  2021     12    52  \n",
       "2                 142                 113              5101  2020      7    31  \n",
       "3                 155                 136              1721  2021     10    40  \n",
       "4                 119                  81              1696  2022      4    17  "
      ]
     },
     "execution_count": 46,
     "metadata": {},
     "output_type": "execute_result"
    }
   ],
   "source": [
    "data_df.head()"
   ]
  },
  {
   "cell_type": "markdown",
   "id": "89cdf383",
   "metadata": {},
   "source": [
    "Get the data types"
   ]
  },
  {
   "cell_type": "code",
   "execution_count": 40,
   "id": "433e8c7e",
   "metadata": {},
   "outputs": [
    {
     "data": {
      "text/plain": [
       "File_Name                     object\n",
       "Sport                         object\n",
       "Start_Time            datetime64[ns]\n",
       "Stop_Time             datetime64[ns]\n",
       "Distance                     float64\n",
       "Duration                      object\n",
       "Maximum_Heart_Rate             int64\n",
       "Average_Heart_Rate             int64\n",
       "Duration_Seconds               int64\n",
       "dtype: object"
      ]
     },
     "execution_count": 40,
     "metadata": {},
     "output_type": "execute_result"
    }
   ],
   "source": [
    "data_df.dtypes"
   ]
  },
  {
   "cell_type": "markdown",
   "id": "70cb7184",
   "metadata": {},
   "source": [
    "What kind of activities are there?"
   ]
  },
  {
   "cell_type": "code",
   "execution_count": 47,
   "id": "86a6c3c6",
   "metadata": {},
   "outputs": [
    {
     "data": {
      "text/plain": [
       "Sport\n",
       "CYCLING                  44\n",
       "INDOOR_CYCLING           10\n",
       "OPEN_WATER_SWIMMING     108\n",
       "POOL_SWIMMING            34\n",
       "ROAD_RUNNING              3\n",
       "RUNNING                 424\n",
       "STRENGTH_TRAINING        64\n",
       "STRETCHING              100\n",
       "SWIMMING                  1\n",
       "TREADMILL_RUNNING         9\n",
       "WALKING                   7\n",
       "WATERSPORTS_KAYAKING      3\n",
       "YOGA                      8\n",
       "Name: Sport, dtype: int64"
      ]
     },
     "execution_count": 47,
     "metadata": {},
     "output_type": "execute_result"
    }
   ],
   "source": [
    "data_df.groupby('Sport').Sport.count()"
   ]
  },
  {
   "cell_type": "markdown",
   "id": "6dd1a755",
   "metadata": {},
   "source": [
    "## Plotting data"
   ]
  },
  {
   "cell_type": "markdown",
   "id": "f69d0578",
   "metadata": {},
   "source": [
    "Breakdown data by week / month / year"
   ]
  },
  {
   "cell_type": "code",
   "execution_count": 48,
   "id": "c66a8b6b",
   "metadata": {},
   "outputs": [],
   "source": [
    "data_df['Year'] = data_df['Start_Time'].apply(lambda x: x.year)\n",
    "data_df['Month'] = data_df['Start_Time'].apply(lambda x: x.month)\n",
    "data_df['Week'] = data_df['Start_Time'].apply(lambda x: x.week)"
   ]
  },
  {
   "cell_type": "markdown",
   "id": "2a8fa874",
   "metadata": {},
   "source": [
    "Running distance by year"
   ]
  },
  {
   "cell_type": "code",
   "execution_count": 49,
   "id": "6df8e926",
   "metadata": {},
   "outputs": [
    {
     "data": {
      "text/plain": [
       "Text(0, 0.5, 'Distance (km)')"
      ]
     },
     "execution_count": 49,
     "metadata": {},
     "output_type": "execute_result"
    },
    {
     "data": {
      "image/png": "[encoded data removed]",
      "text/plain": [
       "<Figure size 1080x360 with 1 Axes>"
      ]
     },
     "metadata": {
      "needs_background": "light"
     },
     "output_type": "display_data"
    }
   ],
   "source": [
    "data_df[data_df.Sport == \"RUNNING\"]\\\n",
    "    .groupby(['Year'])\\\n",
    "    .apply(lambda x: x['Distance'].sum()/1000)\\\n",
    "    .plot(kind='bar', figsize=(15,5))\n",
    "plt.ylabel('Distance (km)')"
   ]
  },
  {
   "cell_type": "markdown",
   "id": "63f917ad",
   "metadata": {},
   "source": [
    "Running distance by week in 2021"
   ]
  },
  {
   "cell_type": "code",
   "execution_count": 56,
   "id": "38cc360c",
   "metadata": {},
   "outputs": [
    {
     "data": {
      "text/plain": [
       "Text(0, 0.5, 'Distance (km)')"
      ]
     },
     "execution_count": 56,
     "metadata": {},
     "output_type": "execute_result"
    },
    {
     "data": {
      "image/png": "[encoded data removed]",
      "text/plain": [
       "<Figure size 1080x360 with 1 Axes>"
      ]
     },
     "metadata": {
      "needs_background": "light"
     },
     "output_type": "display_data"
    }
   ],
   "source": [
    "data_df[(data_df.Sport == \"RUNNING\") & (data_df.Year == 2021)]\\\n",
    "    .groupby(['Week'])\\\n",
    "    .apply(lambda x: x['Distance'].sum()/1000)\\\n",
    "    .plot(kind='bar', figsize=(15,5))\n",
    "plt.ylabel('Distance (km)')"
   ]
  },
  {
   "cell_type": "markdown",
   "id": "736530bf",
   "metadata": {},
   "source": [
    "Cycling distance by year"
   ]
  },
  {
   "cell_type": "code",
   "execution_count": 57,
   "id": "d8d62978",
   "metadata": {},
   "outputs": [
    {
     "data": {
      "text/plain": [
       "Text(0, 0.5, 'Distance (km)')"
      ]
     },
     "execution_count": 57,
     "metadata": {},
     "output_type": "execute_result"
    },
    {
     "data": {
      "image/png": "[encoded data removed]",
      "text/plain": [
       "<Figure size 1080x360 with 1 Axes>"
      ]
     },
     "metadata": {
      "needs_background": "light"
     },
     "output_type": "display_data"
    }
   ],
   "source": [
    "data_df[data_df.Sport == \"CYCLING\"]\\\n",
    "    .groupby(['Year'])\\\n",
    "    .apply(lambda x: x['Distance'].sum()/1000)\\\n",
    "    .plot(kind='bar', figsize=(15,5))\n",
    "plt.ylabel('Distance (km)')"
   ]
  },
  {
   "cell_type": "markdown",
   "id": "64d24370",
   "metadata": {},
   "source": [
    "Cyclingdistance by week in 2020"
   ]
  },
  {
   "cell_type": "code",
   "execution_count": 58,
   "id": "5851d2bc",
   "metadata": {},
   "outputs": [
    {
     "data": {
      "text/plain": [
       "Text(0, 0.5, 'Distance (km)')"
      ]
     },
     "execution_count": 58,
     "metadata": {},
     "output_type": "execute_result"
    },
    {
     "data": {
      "image/png": "[encoded data removed]",
      "text/plain": [
       "<Figure size 1080x360 with 1 Axes>"
      ]
     },
     "metadata": {
      "needs_background": "light"
     },
     "output_type": "display_data"
    }
   ],
   "source": [
    "data_df[(data_df.Sport == \"CYCLING\") & (data_df.Year == 2020)]\\\n",
    "    .groupby(['Week'])\\\n",
    "    .apply(lambda x: x['Distance'].sum()/1000)\\\n",
    "    .plot(kind='bar', figsize=(15,5))\n",
    "plt.ylabel('Distance (km)')"
   ]
  },
  {
   "cell_type": "code",
   "execution_count": null,
   "id": "41802fac",
   "metadata": {},
   "outputs": [],
   "source": []
  }
 ],
 "metadata": {
  "kernelspec": {
   "display_name": "Python 3 (ipykernel)",
   "language": "python",
   "name": "python3"
  },
  "language_info": {
   "codemirror_mode": {
    "name": "ipython",
    "version": 3
   },
   "file_extension": ".py",
   "mimetype": "text/x-python",
   "name": "python",
   "nbconvert_exporter": "python",
   "pygments_lexer": "ipython3",
   "version": "3.9.6"
  }
 },
 "nbformat": 4,
 "nbformat_minor": 5
}
