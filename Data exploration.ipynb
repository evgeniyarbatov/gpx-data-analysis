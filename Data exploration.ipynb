{
 "cells": [
  {
   "cell_type": "markdown",
   "id": "31efab61",
   "metadata": {},
   "source": [
    "# Data exploration"
   ]
  },
  {
   "cell_type": "markdown",
   "id": "d3bb4267",
   "metadata": {},
   "source": [
    "I have exported my data from Polar watch. Exploring what is there "
   ]
  },
  {
   "cell_type": "code",
   "execution_count": 34,
   "id": "060f1279",
   "metadata": {},
   "outputs": [],
   "source": [
    "import glob\n",
    "import os\n",
    "import json\n",
    "import random"
   ]
  },
  {
   "cell_type": "markdown",
   "id": "a51f274e",
   "metadata": {},
   "source": [
    "Define consts"
   ]
  },
  {
   "cell_type": "code",
   "execution_count": 12,
   "id": "958a7a84",
   "metadata": {},
   "outputs": [],
   "source": [
    "DATA_DIR = \"/Users/arbatov/gitRepo/gpx-data/data\""
   ]
  },
  {
   "cell_type": "markdown",
   "id": "5bafefc7",
   "metadata": {},
   "source": [
    "## Get the data"
   ]
  },
  {
   "cell_type": "markdown",
   "id": "3d180a30",
   "metadata": {},
   "source": [
    "Load the files"
   ]
  },
  {
   "cell_type": "code",
   "execution_count": 13,
   "id": "96b438bb",
   "metadata": {},
   "outputs": [],
   "source": [
    "json_files = glob.glob(os.path.join(DATA_DIR,\"*.json\"))"
   ]
  },
  {
   "cell_type": "markdown",
   "id": "928a2c5f",
   "metadata": {},
   "source": [
    "How many files?"
   ]
  },
  {
   "cell_type": "code",
   "execution_count": 14,
   "id": "39041900",
   "metadata": {},
   "outputs": [
    {
     "name": "stdout",
     "output_type": "stream",
     "text": [
      "815\n"
     ]
    }
   ],
   "source": [
    "print(len(json_files))"
   ]
  },
  {
   "cell_type": "markdown",
   "id": "22181860",
   "metadata": {},
   "source": [
    "How big are all of the files?"
   ]
  },
  {
   "cell_type": "code",
   "execution_count": 18,
   "id": "0e79ce4c",
   "metadata": {
    "scrolled": true
   },
   "outputs": [
    {
     "name": "stdout",
     "output_type": "stream",
     "text": [
      "1.7585922731086612 GB\n"
     ]
    }
   ],
   "source": [
    "nbytes = sum(d.stat().st_size for d in os.scandir(DATA_DIR) if d.is_file())\n",
    "print(float(nbytes) / 1024**3, \"GB\")"
   ]
  },
  {
   "cell_type": "markdown",
   "id": "46999c4f",
   "metadata": {},
   "source": [
    "## Overview of data"
   ]
  },
  {
   "cell_type": "markdown",
   "id": "96e721c5",
   "metadata": {},
   "source": [
    "What kind of activities are there?"
   ]
  },
  {
   "cell_type": "code",
   "execution_count": 39,
   "id": "432511c6",
   "metadata": {},
   "outputs": [
    {
     "name": "stdout",
     "output_type": "stream",
     "text": [
      "RUNNING 106\n",
      "OPEN_WATER_SWIMMING 26\n",
      "STRETCHING 20\n",
      "STRENGTH_TRAINING 18\n",
      "CYCLING 9\n",
      "POOL_SWIMMING 7\n",
      "TREADMILL_RUNNING 5\n",
      "INDOOR_CYCLING 4\n",
      "YOGA 3\n",
      "WALKING 1\n",
      "ROAD_RUNNING 1\n"
     ]
    }
   ],
   "source": [
    "activities = {}\n",
    "\n",
    "sampled_json_files = random.sample(json_files, 200)\n",
    "for json_file in sampled_json_files:\n",
    "    with open(json_file) as file:\n",
    "        contents = json.load(file)\n",
    "        activity = contents['exercises'][0]['sport']\n",
    "        if activity in activities:\n",
    "            activities[activity] += 1\n",
    "        else:\n",
    "            activities[activity] = 1\n",
    "\n",
    "sorted_activities = dict(sorted(\n",
    "    activities.items(), \n",
    "    key=lambda activity: activity[1],\n",
    "    reverse=True\n",
    "))            \n",
    "for activity, count in sorted_activities.items():\n",
    "    print(activity, count)"
   ]
  },
  {
   "cell_type": "code",
   "execution_count": null,
   "id": "0a74e599",
   "metadata": {},
   "outputs": [],
   "source": []
  }
 ],
 "metadata": {
  "kernelspec": {
   "display_name": "Python 3 (ipykernel)",
   "language": "python",
   "name": "python3"
  },
  "language_info": {
   "codemirror_mode": {
    "name": "ipython",
    "version": 3
   },
   "file_extension": ".py",
   "mimetype": "text/x-python",
   "name": "python",
   "nbconvert_exporter": "python",
   "pygments_lexer": "ipython3",
   "version": "3.9.6"
  }
 },
 "nbformat": 4,
 "nbformat_minor": 5
}
