{
 "cells": [
  {
   "cell_type": "markdown",
   "id": "31efab61",
   "metadata": {},
   "source": [
    "# Data exploration"
   ]
  },
  {
   "cell_type": "markdown",
   "id": "d3bb4267",
   "metadata": {},
   "source": [
    "I have exported my data from Polar watch. Exploring what is there "
   ]
  },
  {
   "cell_type": "code",
   "execution_count": 12,
   "id": "c030fbf3",
   "metadata": {},
   "outputs": [],
   "source": [
    "import glob\n",
    "import os\n",
    "import json\n",
    "import random\n",
    "import pandas as pd"
   ]
  },
  {
   "cell_type": "markdown",
   "id": "d10a3cc2",
   "metadata": {},
   "source": [
    "Define consts"
   ]
  },
  {
   "cell_type": "code",
   "execution_count": 13,
   "id": "b367ef48",
   "metadata": {},
   "outputs": [],
   "source": [
    "DATA_DIR = \"/Users/arbatov/gitRepo/gpx-data/data\""
   ]
  },
  {
   "cell_type": "markdown",
   "id": "d47e1633",
   "metadata": {},
   "source": [
    "## Get the data"
   ]
  },
  {
   "cell_type": "markdown",
   "id": "c6cc64d5",
   "metadata": {},
   "source": [
    "Load the files"
   ]
  },
  {
   "cell_type": "code",
   "execution_count": 14,
   "id": "8ca7bd45",
   "metadata": {},
   "outputs": [],
   "source": [
    "json_files = glob.glob(os.path.join(DATA_DIR,\"*.json\"))"
   ]
  },
  {
   "cell_type": "markdown",
   "id": "867165d9",
   "metadata": {},
   "source": [
    "How many files?"
   ]
  },
  {
   "cell_type": "code",
   "execution_count": 15,
   "id": "cbbf424c",
   "metadata": {},
   "outputs": [
    {
     "name": "stdout",
     "output_type": "stream",
     "text": [
      "815\n"
     ]
    }
   ],
   "source": [
    "print(len(json_files))"
   ]
  },
  {
   "cell_type": "markdown",
   "id": "fe693dba",
   "metadata": {},
   "source": [
    "How big are all of the files?"
   ]
  },
  {
   "cell_type": "code",
   "execution_count": 16,
   "id": "983170f5",
   "metadata": {
    "scrolled": true
   },
   "outputs": [
    {
     "name": "stdout",
     "output_type": "stream",
     "text": [
      "1.7585922731086612 GB\n"
     ]
    }
   ],
   "source": [
    "nbytes = sum(d.stat().st_size for d in os.scandir(DATA_DIR) if d.is_file())\n",
    "print(float(nbytes) / 1024**3, \"GB\")"
   ]
  },
  {
   "cell_type": "markdown",
   "id": "f76150b4",
   "metadata": {},
   "source": [
    "## Overview of data"
   ]
  },
  {
   "cell_type": "markdown",
   "id": "1776e405",
   "metadata": {},
   "source": [
    "I need to sample data"
   ]
  },
  {
   "cell_type": "code",
   "execution_count": 20,
   "id": "708ffd34",
   "metadata": {},
   "outputs": [
    {
     "data": {
      "text/html": [
       "<div>\n",
       "<style scoped>\n",
       "    .dataframe tbody tr th:only-of-type {\n",
       "        vertical-align: middle;\n",
       "    }\n",
       "\n",
       "    .dataframe tbody tr th {\n",
       "        vertical-align: top;\n",
       "    }\n",
       "\n",
       "    .dataframe thead th {\n",
       "        text-align: right;\n",
       "    }\n",
       "</style>\n",
       "<table border=\"1\" class=\"dataframe\">\n",
       "  <thead>\n",
       "    <tr style=\"text-align: right;\">\n",
       "      <th></th>\n",
       "      <th>File_Name</th>\n",
       "      <th>Sport</th>\n",
       "      <th>Start_Time</th>\n",
       "      <th>Stop_Time</th>\n",
       "      <th>Distance</th>\n",
       "      <th>Duration</th>\n",
       "      <th>Maximum_Heart_Rate</th>\n",
       "      <th>Average_Heart_Rate</th>\n",
       "    </tr>\n",
       "  </thead>\n",
       "  <tbody>\n",
       "    <tr>\n",
       "      <th>0</th>\n",
       "      <td>training-session-2020-07-11-4877588241-0b9426e...</td>\n",
       "      <td>RUNNING</td>\n",
       "      <td>2020-07-11 14:45:18.006</td>\n",
       "      <td>2020-07-11 15:25:26.425</td>\n",
       "      <td>7701.799805</td>\n",
       "      <td>PT2403.627S</td>\n",
       "      <td>160</td>\n",
       "      <td>154</td>\n",
       "    </tr>\n",
       "    <tr>\n",
       "      <th>1</th>\n",
       "      <td>training-session-2020-07-21-4916578301-0aaa514...</td>\n",
       "      <td>RUNNING</td>\n",
       "      <td>2020-07-21 18:11:22.223</td>\n",
       "      <td>2020-07-21 18:52:34.788</td>\n",
       "      <td>7763.399902</td>\n",
       "      <td>PT2385.502S</td>\n",
       "      <td>166</td>\n",
       "      <td>147</td>\n",
       "    </tr>\n",
       "    <tr>\n",
       "      <th>2</th>\n",
       "      <td>training-session-2020-07-06-4860522091-37b1955...</td>\n",
       "      <td>STRETCHING</td>\n",
       "      <td>2020-07-06 09:42:28.983</td>\n",
       "      <td>2020-07-06 09:49:37.983</td>\n",
       "      <td>0.000000</td>\n",
       "      <td>PT420.002S</td>\n",
       "      <td>110</td>\n",
       "      <td>88</td>\n",
       "    </tr>\n",
       "    <tr>\n",
       "      <th>3</th>\n",
       "      <td>training-session-2021-12-04-6784772229-8b6fbd8...</td>\n",
       "      <td>STRENGTH_TRAINING</td>\n",
       "      <td>2021-12-04 22:35:29.527</td>\n",
       "      <td>2021-12-04 22:48:36.798</td>\n",
       "      <td>0.000000</td>\n",
       "      <td>PT781.377S</td>\n",
       "      <td>124</td>\n",
       "      <td>98</td>\n",
       "    </tr>\n",
       "    <tr>\n",
       "      <th>4</th>\n",
       "      <td>training-session-2022-01-19-6918983519-382ea3e...</td>\n",
       "      <td>OPEN_WATER_SWIMMING</td>\n",
       "      <td>2022-01-19 12:20:50.002</td>\n",
       "      <td>2022-01-19 12:45:39.955</td>\n",
       "      <td>0.000000</td>\n",
       "      <td>PT1485.377S</td>\n",
       "      <td>175</td>\n",
       "      <td>140</td>\n",
       "    </tr>\n",
       "  </tbody>\n",
       "</table>\n",
       "</div>"
      ],
      "text/plain": [
       "                                           File_Name                Sport  \\\n",
       "0  training-session-2020-07-11-4877588241-0b9426e...              RUNNING   \n",
       "1  training-session-2020-07-21-4916578301-0aaa514...              RUNNING   \n",
       "2  training-session-2020-07-06-4860522091-37b1955...           STRETCHING   \n",
       "3  training-session-2021-12-04-6784772229-8b6fbd8...    STRENGTH_TRAINING   \n",
       "4  training-session-2022-01-19-6918983519-382ea3e...  OPEN_WATER_SWIMMING   \n",
       "\n",
       "               Start_Time               Stop_Time     Distance     Duration  \\\n",
       "0 2020-07-11 14:45:18.006 2020-07-11 15:25:26.425  7701.799805  PT2403.627S   \n",
       "1 2020-07-21 18:11:22.223 2020-07-21 18:52:34.788  7763.399902  PT2385.502S   \n",
       "2 2020-07-06 09:42:28.983 2020-07-06 09:49:37.983     0.000000   PT420.002S   \n",
       "3 2021-12-04 22:35:29.527 2021-12-04 22:48:36.798     0.000000   PT781.377S   \n",
       "4 2022-01-19 12:20:50.002 2022-01-19 12:45:39.955     0.000000  PT1485.377S   \n",
       "\n",
       "   Maximum_Heart_Rate  Average_Heart_Rate  \n",
       "0                 160                 154  \n",
       "1                 166                 147  \n",
       "2                 110                  88  \n",
       "3                 124                  98  \n",
       "4                 175                 140  "
      ]
     },
     "execution_count": 20,
     "metadata": {},
     "output_type": "execute_result"
    }
   ],
   "source": [
    "def get_sample(sample_size = 200):  \n",
    "    file_contents = []\n",
    "    \n",
    "    sampled_json_files = random.sample(json_files, sample_size)\n",
    "    for json_file in sampled_json_files:\n",
    "        with open(json_file) as file:\n",
    "            j = json.load(file)\n",
    "            \n",
    "            file_contents.append([\n",
    "                os.path.basename(json_file),\n",
    "                j['exercises'][0]['sport'],\n",
    "                j['startTime'],\n",
    "                j['stopTime'],\n",
    "                j['distance'] if 'distance' in j else 0,\n",
    "                j['duration'],\n",
    "                j['maximumHeartRate'] if 'maximumHeartRate' in j else 0,\n",
    "                j['averageHeartRate']\n",
    "            ])\n",
    "\n",
    "    return file_contents\n",
    "\n",
    "\n",
    "data = get_sample(sample_size=200)\n",
    "data_df = pd.DataFrame(data, columns=[\n",
    "    'File_Name', \n",
    "    'Sport',\n",
    "    'Start_Time',\n",
    "    'Stop_Time',\n",
    "    'Distance',\n",
    "    'Duration',\n",
    "    'Maximum_Heart_Rate',\n",
    "    'Average_Heart_Rate'\n",
    "])\n",
    "\n",
    "data_df.head()"
   ]
  },
  {
   "cell_type": "markdown",
   "id": "89cdf383",
   "metadata": {},
   "source": [
    "Get the data types"
   ]
  },
  {
   "cell_type": "code",
   "execution_count": 18,
   "id": "433e8c7e",
   "metadata": {},
   "outputs": [
    {
     "data": {
      "text/plain": [
       "File_Name              object\n",
       "Sport                  object\n",
       "Start_Time             object\n",
       "Stop_Time              object\n",
       "Distance              float64\n",
       "Duration               object\n",
       "Maximum_Heart_Rate      int64\n",
       "Average_Heart_Rate      int64\n",
       "dtype: object"
      ]
     },
     "execution_count": 18,
     "metadata": {},
     "output_type": "execute_result"
    }
   ],
   "source": [
    "data_df.dtypes"
   ]
  },
  {
   "cell_type": "markdown",
   "id": "70cb7184",
   "metadata": {},
   "source": [
    "What kind of activities are there?"
   ]
  },
  {
   "cell_type": "code",
   "execution_count": 21,
   "id": "86a6c3c6",
   "metadata": {},
   "outputs": [
    {
     "data": {
      "text/plain": [
       "RUNNING                95\n",
       "OPEN_WATER_SWIMMING    34\n",
       "STRETCHING             29\n",
       "STRENGTH_TRAINING      11\n",
       "CYCLING                10\n",
       "POOL_SWIMMING           9\n",
       "YOGA                    3\n",
       "WALKING                 3\n",
       "ROAD_RUNNING            2\n",
       "TREADMILL_RUNNING       2\n",
       "INDOOR_CYCLING          2\n",
       "Name: Sport, dtype: int64"
      ]
     },
     "execution_count": 21,
     "metadata": {},
     "output_type": "execute_result"
    }
   ],
   "source": [
    "data_df['Sport'].value_counts()"
   ]
  },
  {
   "cell_type": "markdown",
   "id": "a7ddfa8d",
   "metadata": {},
   "source": [
    "Get activities of specific sport"
   ]
  },
  {
   "cell_type": "code",
   "execution_count": null,
   "id": "a7bebef3",
   "metadata": {},
   "outputs": [],
   "source": []
  }
 ],
 "metadata": {
  "kernelspec": {
   "display_name": "Python 3 (ipykernel)",
   "language": "python",
   "name": "python3"
  },
  "language_info": {
   "codemirror_mode": {
    "name": "ipython",
    "version": 3
   },
   "file_extension": ".py",
   "mimetype": "text/x-python",
   "name": "python",
   "nbconvert_exporter": "python",
   "pygments_lexer": "ipython3",
   "version": "3.9.6"
  }
 },
 "nbformat": 4,
 "nbformat_minor": 5
}
