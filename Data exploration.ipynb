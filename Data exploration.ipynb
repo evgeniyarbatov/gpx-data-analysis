{
 "cells": [
  {
   "cell_type": "markdown",
   "id": "31efab61",
   "metadata": {},
   "source": [
    "# Data exploration"
   ]
  },
  {
   "cell_type": "markdown",
   "id": "d3bb4267",
   "metadata": {},
   "source": [
    "I have exported my data from Polar watch. Exploring what is there "
   ]
  },
  {
   "cell_type": "code",
   "execution_count": 34,
   "id": "c030fbf3",
   "metadata": {},
   "outputs": [],
   "source": [
    "import glob\n",
    "import os\n",
    "import json\n",
    "import random"
   ]
  },
  {
   "cell_type": "markdown",
   "id": "d10a3cc2",
   "metadata": {},
   "source": [
    "Define consts"
   ]
  },
  {
   "cell_type": "code",
   "execution_count": 12,
   "id": "b367ef48",
   "metadata": {},
   "outputs": [],
   "source": [
    "DATA_DIR = \"/Users/arbatov/gitRepo/gpx-data/data\""
   ]
  },
  {
   "cell_type": "markdown",
   "id": "d47e1633",
   "metadata": {},
   "source": [
    "## Get the data"
   ]
  },
  {
   "cell_type": "markdown",
   "id": "c6cc64d5",
   "metadata": {},
   "source": [
    "Load the files"
   ]
  },
  {
   "cell_type": "code",
   "execution_count": 13,
   "id": "8ca7bd45",
   "metadata": {},
   "outputs": [],
   "source": [
    "json_files = glob.glob(os.path.join(DATA_DIR,\"*.json\"))"
   ]
  },
  {
   "cell_type": "markdown",
   "id": "867165d9",
   "metadata": {},
   "source": [
    "How many files?"
   ]
  },
  {
   "cell_type": "code",
   "execution_count": 14,
   "id": "cbbf424c",
   "metadata": {},
   "outputs": [
    {
     "name": "stdout",
     "output_type": "stream",
     "text": [
      "815\n"
     ]
    }
   ],
   "source": [
    "print(len(json_files))"
   ]
  },
  {
   "cell_type": "markdown",
   "id": "fe693dba",
   "metadata": {},
   "source": [
    "How big are all of the files?"
   ]
  },
  {
   "cell_type": "code",
   "execution_count": 18,
   "id": "983170f5",
   "metadata": {
    "scrolled": true
   },
   "outputs": [
    {
     "name": "stdout",
     "output_type": "stream",
     "text": [
      "1.7585922731086612 GB\n"
     ]
    }
   ],
   "source": [
    "nbytes = sum(d.stat().st_size for d in os.scandir(DATA_DIR) if d.is_file())\n",
    "print(float(nbytes) / 1024**3, \"GB\")"
   ]
  },
  {
   "cell_type": "markdown",
   "id": "f76150b4",
   "metadata": {},
   "source": [
    "## Overview of data"
   ]
  },
  {
   "cell_type": "markdown",
   "id": "1776e405",
   "metadata": {},
   "source": [
    "I need to sample data"
   ]
  },
  {
   "cell_type": "code",
   "execution_count": 51,
   "id": "708ffd34",
   "metadata": {},
   "outputs": [],
   "source": [
    "def get_sample(sport = None, sample_size = 200):  \n",
    "    file_contents = []\n",
    "    \n",
    "    sampled_json_files = random.sample(json_files, sample_size)\n",
    "    for json_file in sampled_json_files:\n",
    "        with open(json_file) as file:\n",
    "            content = json.load(file)\n",
    "            \n",
    "            file_sport = content['exercises'][0]['sport']\n",
    "            if sport == None or file_sport == sport:\n",
    "                file_contents.append(content)\n",
    "\n",
    "    return file_contents"
   ]
  },
  {
   "cell_type": "markdown",
   "id": "70cb7184",
   "metadata": {},
   "source": [
    "What kind of activities are there?"
   ]
  },
  {
   "cell_type": "code",
   "execution_count": 52,
   "id": "86a6c3c6",
   "metadata": {},
   "outputs": [
    {
     "name": "stdout",
     "output_type": "stream",
     "text": [
      "RUNNING 1\n",
      "OPEN_WATER_SWIMMING 1\n",
      "STRETCHING 1\n",
      "STRENGTH_TRAINING 1\n",
      "INDOOR_CYCLING 1\n",
      "CYCLING 1\n",
      "POOL_SWIMMING 1\n",
      "TREADMILL_RUNNING 1\n",
      "ROAD_RUNNING 1\n",
      "WALKING 1\n"
     ]
    }
   ],
   "source": [
    "activities = {}\n",
    "\n",
    "file_contents = get_sample(sample_size=200)\n",
    "for content in file_contents:\n",
    "    sport = content['exercises'][0]['sport']\n",
    "    if activity in activities:\n",
    "        activities[sport] += 1\n",
    "    else:\n",
    "        activities[sport] = 1\n",
    "\n",
    "sorted_activities = dict(sorted(\n",
    "    activities.items(), \n",
    "    key=lambda activity: activity[1],\n",
    "    reverse=True\n",
    "))            \n",
    "for sport, count in sorted_activities.items():\n",
    "    print(sport, count)"
   ]
  },
  {
   "cell_type": "markdown",
   "id": "a7ddfa8d",
   "metadata": {},
   "source": [
    "Get activities of specific sport"
   ]
  },
  {
   "cell_type": "code",
   "execution_count": 50,
   "id": "b5c8d85d",
   "metadata": {},
   "outputs": [],
   "source": [
    "running_acitivities = get_sample(\"RUNNING\", 200)\n",
    "        "
   ]
  },
  {
   "cell_type": "code",
   "execution_count": null,
   "id": "a7bebef3",
   "metadata": {},
   "outputs": [],
   "source": []
  }
 ],
 "metadata": {
  "kernelspec": {
   "display_name": "Python 3 (ipykernel)",
   "language": "python",
   "name": "python3"
  },
  "language_info": {
   "codemirror_mode": {
    "name": "ipython",
    "version": 3
   },
   "file_extension": ".py",
   "mimetype": "text/x-python",
   "name": "python",
   "nbconvert_exporter": "python",
   "pygments_lexer": "ipython3",
   "version": "3.9.6"
  }
 },
 "nbformat": 4,
 "nbformat_minor": 5
}
